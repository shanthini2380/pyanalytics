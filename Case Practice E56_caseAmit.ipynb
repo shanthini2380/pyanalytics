{
 "cells": [
  {
   "cell_type": "markdown",
   "id": "4e57d4fc-0dbe-4cf0-9780-0e32f39b97ad",
   "metadata": {
    "tags": []
   },
   "source": [
    "#  Case Study\n",
    "-  Amit-BS Workout"
   ]
  },
  {
   "cell_type": "code",
   "execution_count": 5,
   "id": "2240ec93-06bb-4e88-8179-2dd6ce3d7021",
   "metadata": {
    "tags": []
   },
   "outputs": [],
   "source": [
    "import pandas as pd\n",
    "import numpy as np\n",
    "import datetime as dt\n",
    "import matplotlib.pyplot as plt\n",
    "import seaborn as sns\n",
    "import os"
   ]
  },
  {
   "cell_type": "code",
   "execution_count": 12,
   "id": "7fdf9634-5d04-48bb-a17a-d39365265fd4",
   "metadata": {
    "tags": []
   },
   "outputs": [
    {
     "name": "stdout",
     "output_type": "stream",
     "text": [
      "E:\\analytics\\projects\\pyanalytics\n"
     ]
    }
   ],
   "source": [
    "print(os.getcwd())\n",
    "#print the current working dir "
   ]
  },
  {
   "cell_type": "code",
   "execution_count": 13,
   "id": "cceaa8fd-c9bd-4b63-abd6-43ca0d6f1f8d",
   "metadata": {
    "tags": []
   },
   "outputs": [
    {
     "data": {
      "text/plain": [
       "['.git',\n",
       " '.ipynb_checkpoints',\n",
       " 'A51_dsBasic.ipynb',\n",
       " 'A52_dsNP.ipynb',\n",
       " 'A53_dsPD.ipynb',\n",
       " 'Case Practice E56_caseAmit.ipynb',\n",
       " 'Class 1 - Practice(14-02-2024) Data Structure Basics .ipynb',\n",
       " 'Class 2 Practice (16-2-2024) - Numpy.ipynb',\n",
       " 'Class 3 Practice(19-02-2024) - Pandas.ipynb',\n",
       " 'data',\n",
       " 'E56_caseAmit.ipynb',\n",
       " 'file1.ipynb',\n",
       " 'filedf.csv',\n",
       " 'mtcars2.xlsx',\n",
       " 'mtcars3.csv',\n",
       " 'trg.xlsx',\n",
       " 'Untitled.ipynb',\n",
       " 'vinay.csv']"
      ]
     },
     "execution_count": 13,
     "metadata": {},
     "output_type": "execute_result"
    }
   ],
   "source": [
    "os.listdir()"
   ]
  },
  {
   "cell_type": "code",
   "execution_count": 8,
   "id": "39301b74",
   "metadata": {},
   "outputs": [
    {
     "data": {
      "text/plain": [
       "['trg.xlsx']"
      ]
     },
     "execution_count": 8,
     "metadata": {},
     "output_type": "execute_result"
    }
   ],
   "source": [
    "datafolder1 = 'E:/analytics/projects/pyanalytics/data/'\n",
    "os.listdir(datafolder1)"
   ]
  },
  {
   "cell_type": "code",
   "execution_count": 14,
   "id": "1a5f06d6",
   "metadata": {},
   "outputs": [
    {
     "data": {
      "text/plain": [
       "(31, 15)"
      ]
     },
     "execution_count": 14,
     "metadata": {},
     "output_type": "execute_result"
    }
   ],
   "source": [
    "fileLoc = 'E:/analytics/projects/pyanalytics/data/trg.xlsx'\n",
    "df1 =  pd.read_excel(fileLoc, skiprows=1,sheet_name=0)\n",
    "df1.shape"
   ]
  },
  {
   "cell_type": "code",
   "execution_count": 16,
   "id": "d7d69f56",
   "metadata": {},
   "outputs": [
    {
     "name": "stdout",
     "output_type": "stream",
     "text": [
      "<class 'pandas.core.frame.DataFrame'>\n",
      "RangeIndex: 31 entries, 0 to 30\n",
      "Data columns (total 15 columns):\n",
      " #   Column                  Non-Null Count  Dtype         \n",
      "---  ------                  --------------  -----         \n",
      " 0   1                       31 non-null     int64         \n",
      " 1   29                      31 non-null     int64         \n",
      " 2   Dr. Ashwini L. Bargaje  31 non-null     object        \n",
      " 3   Clinical Assistant      31 non-null     object        \n",
      " 4   Medical                 31 non-null     object        \n",
      " 5   RMO                     31 non-null     object        \n",
      " 6   2020-04-12 00:00:00     31 non-null     datetime64[ns]\n",
      " 7   2023-04-11 00:00:00     31 non-null     datetime64[ns]\n",
      " 8   21000                   31 non-null     int64         \n",
      " 9   11.07.1995              31 non-null     object        \n",
      " 10  BHMS                    31 non-null     object        \n",
      " 11  2Years                  31 non-null     object        \n",
      " 12  75634                   17 non-null     object        \n",
      " 13  NaN                     10 non-null     object        \n",
      " 14  NaN.1                   0 non-null      float64       \n",
      "dtypes: datetime64[ns](2), float64(1), int64(3), object(9)\n",
      "memory usage: 3.8+ KB\n"
     ]
    }
   ],
   "source": [
    "df1.info()"
   ]
  },
  {
   "cell_type": "code",
   "execution_count": 22,
   "id": "81c30981",
   "metadata": {},
   "outputs": [
    {
     "data": {
      "text/plain": [
       "<bound method NDFrame.describe of      1  29         Dr. Ashwini L. Bargaje       Clinical Assistant  \\\n",
       "0    2  25           Mr. Pratap V.Khedkar          Executive In HR   \n",
       "1    3  27        Mr. Shivdatta P. Gholap     Radiology Technician   \n",
       "2    4  30            Dr. Akshay W. Sonar       Clinical Assistant   \n",
       "3    5  23           Dr. Akshay M. Jadhav       Clinical Assistant   \n",
       "4    6  23       Dr. Anuradha R. Deshmukh       Clinical Assistant   \n",
       "5    7  25          Dr. Mahesh A. Mandora       Clinical Assistant   \n",
       "6    8  28             Dr. Nitin K. Mothe       Clinical Assistant   \n",
       "7    9  27            Dr. Pooja B.Kathore       Clinical Assistant   \n",
       "8   10  24               Dr. Uzma Phopere       Clinical Assistant   \n",
       "9   11  26            Dr. Varsha M. Pawar       Clinical Assistant   \n",
       "10  12  26              Mr. Bhushan Joshi        Senior Accountant   \n",
       "11  13  29               Ms. Zarin Ramani                   Matron   \n",
       "12  14  28      Mr. Shrikrushna B. Kokate      Biological Engineer   \n",
       "13  15  24               Mr. Sandeep Giri            OT Technician   \n",
       "14  16  30              Mr.Mohsin Y. Khan          Assistan Growth   \n",
       "15  17  32             Mr. Balu M. Kamble          Assistan Growth   \n",
       "16  18  31          Mr. Ganesh G. Gadhave          Assistan Growth   \n",
       "17  19  33             Mr.Sunil M.Buchude          Assistan Growth   \n",
       "18  20  31             Dr.Kiran A. Burkul       Clinical Assistant   \n",
       "19  21  42        Mr. Sandeep D. Sadaphal                  Billing   \n",
       "20  22  43          Mr. Vikas V. Bhalerao            OT Technician   \n",
       "21  23  34             Ms. Anita R. Sasne              Staff Nurse   \n",
       "22  24  38        Ms. Ashwani R. Thombare              Staff Nurse   \n",
       "23  25  37           Ms. Chhaya B. Savant              Staff Nurse   \n",
       "24  26  39          Mr. Gajanan B. Mundhe              Staff Nurse   \n",
       "25  27  40        Ms. Pradnya S. Khandare              Staff Nurse   \n",
       "26  28  41            Ms. Ranjana R. Nair              Staff Nurse   \n",
       "27  29  36             Ms. Usha B. Jadhav              Staff Nurse   \n",
       "28  30  35             Ms.Vidya N. Jadhav              Staff Nurse   \n",
       "29  31  21       Mr. Manoj Bhagwan Sarode  Executive in Maintenace   \n",
       "30  32  22  Ms. Amrapali Ankush Tribhuvan              Staff Nurse   \n",
       "\n",
       "              Medical                 RMO 2020-04-12 00:00:00  \\\n",
       "0                  HR               Admin          2021-07-01   \n",
       "1           Radiology          Technician          2021-07-01   \n",
       "2             Medical                 RMO          2021-07-27   \n",
       "3             Medical                 RMO          2022-01-01   \n",
       "4             Medical                 RMO          2022-01-01   \n",
       "5             Medical                 RMO          2022-01-01   \n",
       "6             Medical                 RMO          2022-01-01   \n",
       "7             Medical                 RMO          2022-01-01   \n",
       "8             Medical                 RMO          2022-01-01   \n",
       "9             Medical                 RMO          2022-01-01   \n",
       "10           Accounts             Manager          2022-01-01   \n",
       "11            Nursing              Matron          2022-02-04   \n",
       "12            Medical  Bio Mediacal Admin          2022-03-22   \n",
       "13    CVTS Department          Technician          2022-04-05   \n",
       "14  Growth Department            Assistan          2022-04-24   \n",
       "15  Growth Department            Assistan          2022-05-01   \n",
       "16  Growth Department            Assistan          2022-05-01   \n",
       "17  Growth Department            Assistan          2022-05-01   \n",
       "18            Medical                 RMO          2022-05-11   \n",
       "19            Billing   Executive Billing          2022-06-01   \n",
       "20    CVTS Department          Technician          2022-06-01   \n",
       "21            Nursing             Nursing          2022-06-01   \n",
       "22            Nursing             Nursing          2022-06-01   \n",
       "23            Nursing             Nursing          2022-06-01   \n",
       "24            Nursing             Nursing          2022-06-01   \n",
       "25            Nursing             Nursing          2022-06-01   \n",
       "26            Nursing             Nursing          2022-06-01   \n",
       "27            Nursing             Nursing          2022-06-01   \n",
       "28            Nursing             Nursing          2022-06-01   \n",
       "29         Maintenace             Manager          2022-07-01   \n",
       "30            Nursing             Nursing          2022-08-01   \n",
       "\n",
       "   2023-04-11 00:00:00  21000  11.07.1995  \\\n",
       "0           2022-06-30  25000  14.11.1979   \n",
       "1           2022-06-30  25000  18.12.1988   \n",
       "2           2022-07-26  18000  09.05.1997   \n",
       "3           2022-12-31  19000  14.10.1996   \n",
       "4           2022-12-31  18600   5.12.1996   \n",
       "5           2022-12-31  65000  21.09.1987   \n",
       "6           2022-12-31  18600  25.05.1983   \n",
       "7           2022-12-31  18600  05.12.1995   \n",
       "8           2022-12-31  18600  04.12.1988   \n",
       "9           2022-12-31  15300  13.06.1996   \n",
       "10          2023-12-31  45000  25.06.1986   \n",
       "11          2023-02-03  40000  10.02.1957   \n",
       "12          2023-03-21  24000  12.05.1995   \n",
       "13          2023-04-05  35000  01.04.1987   \n",
       "14          2023-04-26  22000  03.06.1986   \n",
       "15          2023-04-30  20000  07.01.1984   \n",
       "16          2023-04-30  17000  10.08.1997   \n",
       "17          2023-04-30  15000  05.02.1995   \n",
       "18          2023-05-10  16500  02.10.1995   \n",
       "19          2023-05-31  22000  30.11.1987   \n",
       "20          2023-05-31  22000  07.12.1991   \n",
       "21          2023-05-31  17500  27.06.1995   \n",
       "22          2023-05-31  16000  16.03.1998   \n",
       "23          2023-05-31  16000  09.06.1984   \n",
       "24          2023-05-31  16500  02.05.1996   \n",
       "25          2023-05-31  15000  02.10.1996   \n",
       "26          2023-05-31  16500  22.02.1984   \n",
       "27          2023-05-31  15000  15.01.1985   \n",
       "28          2023-05-31  17500  01.12.1993   \n",
       "29          2023-06-30  16800  16.03.1982   \n",
       "30          2023-07-31  16000  14.10.1987   \n",
       "\n",
       "                                                 BHMS    2Years  \\\n",
       "0                                    Bachelor Of Arts     1Year   \n",
       "1                        X-Raay Technician In Diploma    6Years   \n",
       "2                                                BHMS    4Years   \n",
       "3                                                BAMS    1Years   \n",
       "4                                                BHMS    3Years   \n",
       "5                                                BHMS    2Years   \n",
       "6                                                BHMS    2Years   \n",
       "7                                                BHMS    2Years   \n",
       "8                                                BHMS    1Years   \n",
       "9                                                BHMS   9Months   \n",
       "10                                             M. COM    3Years   \n",
       "11                                                GNM   20Years   \n",
       "12  Diploma in Electronics & Telecommunciation Eng...    4Years   \n",
       "13                                      OT Technician   15years   \n",
       "14                                               B.SC    7years   \n",
       "15                             B.A & M.A ( Sociology)    4Years   \n",
       "16                                         12th (HSC)    2Years   \n",
       "17                                           B.E Tech    1Years   \n",
       "18                                               BHMS   Fresher   \n",
       "19                                             B. Com    9Years   \n",
       "20                          Agriculture Diploma & B.A    7years   \n",
       "21                                                GNM    2Years   \n",
       "22                          ANM Nursing & GNM Nursing    4Years   \n",
       "23                                                GNM    2Years   \n",
       "24                                              R GNM   9Months   \n",
       "25                          ANM Nursing & GNM Nursing    4Years   \n",
       "26                                          BSC/ RGNM    4Years   \n",
       "27                       RANM Nursing. Diploma in GNM    4Years   \n",
       "28                                              R GNM    4Years   \n",
       "29            Diploma in Auto Electrical & Electronic    7years   \n",
       "30                          ANM Nursing & GNM Nursing  10 Years   \n",
       "\n",
       "               75634         NaN  NaN.1  \n",
       "0                NaN         NaN    NaN  \n",
       "1                NaN         NaN    NaN  \n",
       "2         1516138419         NaN    NaN  \n",
       "3              77980  24.02.2021    NaN  \n",
       "4              74571  14.02.2026    NaN  \n",
       "5   1028542012210070         NaN    NaN  \n",
       "6             124110         NaN    NaN  \n",
       "7              49553         NaN    NaN  \n",
       "8              56396         NaN    NaN  \n",
       "9              77821         NaN    NaN  \n",
       "10               NaN         NaN    NaN  \n",
       "11           I-21762   30.3.1982    NaN  \n",
       "12               NaN         NaN    NaN  \n",
       "13               NaN         NaN    NaN  \n",
       "14               NaN         NaN    NaN  \n",
       "15               NaN         NaN    NaN  \n",
       "16               NaN         NaN    NaN  \n",
       "17               NaN         NaN    NaN  \n",
       "18               NaN         NaN    NaN  \n",
       "19               NaN         NaN    NaN  \n",
       "20               NaN         NaN    NaN  \n",
       "21      XXVIII-54493   30.3.2022    NaN  \n",
       "22          XI-15177  30.03.2022    NaN  \n",
       "23      XXVIII-62511  30.03.2022    NaN  \n",
       "24         XLVI-4504  30.03.2027    NaN  \n",
       "25      XXVIII-57664  30.03.2017    NaN  \n",
       "26               NaN         NaN    NaN  \n",
       "27         17DN15807         NaN    NaN  \n",
       "28      XXVIII-67324   6.12.2019    NaN  \n",
       "29               NaN         NaN    NaN  \n",
       "30      XXVIII-68563  30.03.2027    NaN  >"
      ]
     },
     "execution_count": 22,
     "metadata": {},
     "output_type": "execute_result"
    }
   ],
   "source": [
    "df1.describe"
   ]
  },
  {
   "cell_type": "code",
   "execution_count": 19,
   "id": "89257eef-6033-4c36-8220-6543ba940a7d",
   "metadata": {
    "tags": []
   },
   "outputs": [
    {
     "ename": "TypeError",
     "evalue": "sequence item 0: expected str instance, int found",
     "output_type": "error",
     "traceback": [
      "\u001b[1;31m---------------------------------------------------------------------------\u001b[0m",
      "\u001b[1;31mTypeError\u001b[0m                                 Traceback (most recent call last)",
      "Cell \u001b[1;32mIn[19], line 1\u001b[0m\n\u001b[1;32m----> 1\u001b[0m \u001b[38;5;124m'\u001b[39m\u001b[38;5;124m, \u001b[39m\u001b[38;5;124m'\u001b[39m\u001b[38;5;241m.\u001b[39mjoin(df1\u001b[38;5;241m.\u001b[39mcolumns)\n",
      "\u001b[1;31mTypeError\u001b[0m: sequence item 0: expected str instance, int found"
     ]
    }
   ],
   "source": [
    "', '.join(df1.columns)"
   ]
  },
  {
   "cell_type": "code",
   "execution_count": 23,
   "id": "2b875706-2dee-4257-a7fa-845bf6718331",
   "metadata": {
    "tags": []
   },
   "outputs": [
    {
     "data": {
      "text/html": [
       "<div>\n",
       "<style scoped>\n",
       "    .dataframe tbody tr th:only-of-type {\n",
       "        vertical-align: middle;\n",
       "    }\n",
       "\n",
       "    .dataframe tbody tr th {\n",
       "        vertical-align: top;\n",
       "    }\n",
       "\n",
       "    .dataframe thead th {\n",
       "        text-align: right;\n",
       "    }\n",
       "</style>\n",
       "<table border=\"1\" class=\"dataframe\">\n",
       "  <thead>\n",
       "    <tr style=\"text-align: right;\">\n",
       "      <th></th>\n",
       "      <th>1</th>\n",
       "      <th>29</th>\n",
       "      <th>Dr. Ashwini L. Bargaje</th>\n",
       "      <th>Clinical Assistant</th>\n",
       "      <th>Medical</th>\n",
       "      <th>RMO</th>\n",
       "      <th>2020-04-12 00:00:00</th>\n",
       "      <th>2023-04-11 00:00:00</th>\n",
       "      <th>21000</th>\n",
       "      <th>11.07.1995</th>\n",
       "      <th>BHMS</th>\n",
       "      <th>2Years</th>\n",
       "      <th>75634</th>\n",
       "      <th>NaN</th>\n",
       "      <th>NaN.1</th>\n",
       "    </tr>\n",
       "  </thead>\n",
       "  <tbody>\n",
       "    <tr>\n",
       "      <th>0</th>\n",
       "      <td>2</td>\n",
       "      <td>25</td>\n",
       "      <td>Mr. Pratap V.Khedkar</td>\n",
       "      <td>Executive In HR</td>\n",
       "      <td>HR</td>\n",
       "      <td>Admin</td>\n",
       "      <td>2021-07-01</td>\n",
       "      <td>2022-06-30</td>\n",
       "      <td>25000</td>\n",
       "      <td>14.11.1979</td>\n",
       "      <td>Bachelor Of Arts</td>\n",
       "      <td>1Year</td>\n",
       "      <td>NaN</td>\n",
       "      <td>NaN</td>\n",
       "      <td>NaN</td>\n",
       "    </tr>\n",
       "    <tr>\n",
       "      <th>1</th>\n",
       "      <td>3</td>\n",
       "      <td>27</td>\n",
       "      <td>Mr. Shivdatta P. Gholap</td>\n",
       "      <td>Radiology Technician</td>\n",
       "      <td>Radiology</td>\n",
       "      <td>Technician</td>\n",
       "      <td>2021-07-01</td>\n",
       "      <td>2022-06-30</td>\n",
       "      <td>25000</td>\n",
       "      <td>18.12.1988</td>\n",
       "      <td>X-Raay Technician In Diploma</td>\n",
       "      <td>6Years</td>\n",
       "      <td>NaN</td>\n",
       "      <td>NaN</td>\n",
       "      <td>NaN</td>\n",
       "    </tr>\n",
       "    <tr>\n",
       "      <th>2</th>\n",
       "      <td>4</td>\n",
       "      <td>30</td>\n",
       "      <td>Dr. Akshay W. Sonar</td>\n",
       "      <td>Clinical Assistant</td>\n",
       "      <td>Medical</td>\n",
       "      <td>RMO</td>\n",
       "      <td>2021-07-27</td>\n",
       "      <td>2022-07-26</td>\n",
       "      <td>18000</td>\n",
       "      <td>09.05.1997</td>\n",
       "      <td>BHMS</td>\n",
       "      <td>4Years</td>\n",
       "      <td>1516138419</td>\n",
       "      <td>NaN</td>\n",
       "      <td>NaN</td>\n",
       "    </tr>\n",
       "    <tr>\n",
       "      <th>3</th>\n",
       "      <td>5</td>\n",
       "      <td>23</td>\n",
       "      <td>Dr. Akshay M. Jadhav</td>\n",
       "      <td>Clinical Assistant</td>\n",
       "      <td>Medical</td>\n",
       "      <td>RMO</td>\n",
       "      <td>2022-01-01</td>\n",
       "      <td>2022-12-31</td>\n",
       "      <td>19000</td>\n",
       "      <td>14.10.1996</td>\n",
       "      <td>BAMS</td>\n",
       "      <td>1Years</td>\n",
       "      <td>77980</td>\n",
       "      <td>24.02.2021</td>\n",
       "      <td>NaN</td>\n",
       "    </tr>\n",
       "    <tr>\n",
       "      <th>4</th>\n",
       "      <td>6</td>\n",
       "      <td>23</td>\n",
       "      <td>Dr. Anuradha R. Deshmukh</td>\n",
       "      <td>Clinical Assistant</td>\n",
       "      <td>Medical</td>\n",
       "      <td>RMO</td>\n",
       "      <td>2022-01-01</td>\n",
       "      <td>2022-12-31</td>\n",
       "      <td>18600</td>\n",
       "      <td>5.12.1996</td>\n",
       "      <td>BHMS</td>\n",
       "      <td>3Years</td>\n",
       "      <td>74571</td>\n",
       "      <td>14.02.2026</td>\n",
       "      <td>NaN</td>\n",
       "    </tr>\n",
       "    <tr>\n",
       "      <th>5</th>\n",
       "      <td>7</td>\n",
       "      <td>25</td>\n",
       "      <td>Dr. Mahesh A. Mandora</td>\n",
       "      <td>Clinical Assistant</td>\n",
       "      <td>Medical</td>\n",
       "      <td>RMO</td>\n",
       "      <td>2022-01-01</td>\n",
       "      <td>2022-12-31</td>\n",
       "      <td>65000</td>\n",
       "      <td>21.09.1987</td>\n",
       "      <td>BHMS</td>\n",
       "      <td>2Years</td>\n",
       "      <td>1028542012210070</td>\n",
       "      <td>NaN</td>\n",
       "      <td>NaN</td>\n",
       "    </tr>\n",
       "    <tr>\n",
       "      <th>6</th>\n",
       "      <td>8</td>\n",
       "      <td>28</td>\n",
       "      <td>Dr. Nitin K. Mothe</td>\n",
       "      <td>Clinical Assistant</td>\n",
       "      <td>Medical</td>\n",
       "      <td>RMO</td>\n",
       "      <td>2022-01-01</td>\n",
       "      <td>2022-12-31</td>\n",
       "      <td>18600</td>\n",
       "      <td>25.05.1983</td>\n",
       "      <td>BHMS</td>\n",
       "      <td>2Years</td>\n",
       "      <td>124110</td>\n",
       "      <td>NaN</td>\n",
       "      <td>NaN</td>\n",
       "    </tr>\n",
       "    <tr>\n",
       "      <th>7</th>\n",
       "      <td>9</td>\n",
       "      <td>27</td>\n",
       "      <td>Dr. Pooja B.Kathore</td>\n",
       "      <td>Clinical Assistant</td>\n",
       "      <td>Medical</td>\n",
       "      <td>RMO</td>\n",
       "      <td>2022-01-01</td>\n",
       "      <td>2022-12-31</td>\n",
       "      <td>18600</td>\n",
       "      <td>05.12.1995</td>\n",
       "      <td>BHMS</td>\n",
       "      <td>2Years</td>\n",
       "      <td>49553</td>\n",
       "      <td>NaN</td>\n",
       "      <td>NaN</td>\n",
       "    </tr>\n",
       "    <tr>\n",
       "      <th>8</th>\n",
       "      <td>10</td>\n",
       "      <td>24</td>\n",
       "      <td>Dr. Uzma Phopere</td>\n",
       "      <td>Clinical Assistant</td>\n",
       "      <td>Medical</td>\n",
       "      <td>RMO</td>\n",
       "      <td>2022-01-01</td>\n",
       "      <td>2022-12-31</td>\n",
       "      <td>18600</td>\n",
       "      <td>04.12.1988</td>\n",
       "      <td>BHMS</td>\n",
       "      <td>1Years</td>\n",
       "      <td>56396</td>\n",
       "      <td>NaN</td>\n",
       "      <td>NaN</td>\n",
       "    </tr>\n",
       "    <tr>\n",
       "      <th>9</th>\n",
       "      <td>11</td>\n",
       "      <td>26</td>\n",
       "      <td>Dr. Varsha M. Pawar</td>\n",
       "      <td>Clinical Assistant</td>\n",
       "      <td>Medical</td>\n",
       "      <td>RMO</td>\n",
       "      <td>2022-01-01</td>\n",
       "      <td>2022-12-31</td>\n",
       "      <td>15300</td>\n",
       "      <td>13.06.1996</td>\n",
       "      <td>BHMS</td>\n",
       "      <td>9Months</td>\n",
       "      <td>77821</td>\n",
       "      <td>NaN</td>\n",
       "      <td>NaN</td>\n",
       "    </tr>\n",
       "    <tr>\n",
       "      <th>10</th>\n",
       "      <td>12</td>\n",
       "      <td>26</td>\n",
       "      <td>Mr. Bhushan Joshi</td>\n",
       "      <td>Senior Accountant</td>\n",
       "      <td>Accounts</td>\n",
       "      <td>Manager</td>\n",
       "      <td>2022-01-01</td>\n",
       "      <td>2023-12-31</td>\n",
       "      <td>45000</td>\n",
       "      <td>25.06.1986</td>\n",
       "      <td>M. COM</td>\n",
       "      <td>3Years</td>\n",
       "      <td>NaN</td>\n",
       "      <td>NaN</td>\n",
       "      <td>NaN</td>\n",
       "    </tr>\n",
       "    <tr>\n",
       "      <th>11</th>\n",
       "      <td>13</td>\n",
       "      <td>29</td>\n",
       "      <td>Ms. Zarin Ramani</td>\n",
       "      <td>Matron</td>\n",
       "      <td>Nursing</td>\n",
       "      <td>Matron</td>\n",
       "      <td>2022-02-04</td>\n",
       "      <td>2023-02-03</td>\n",
       "      <td>40000</td>\n",
       "      <td>10.02.1957</td>\n",
       "      <td>GNM</td>\n",
       "      <td>20Years</td>\n",
       "      <td>I-21762</td>\n",
       "      <td>30.3.1982</td>\n",
       "      <td>NaN</td>\n",
       "    </tr>\n",
       "    <tr>\n",
       "      <th>12</th>\n",
       "      <td>14</td>\n",
       "      <td>28</td>\n",
       "      <td>Mr. Shrikrushna B. Kokate</td>\n",
       "      <td>Biological Engineer</td>\n",
       "      <td>Medical</td>\n",
       "      <td>Bio Mediacal Admin</td>\n",
       "      <td>2022-03-22</td>\n",
       "      <td>2023-03-21</td>\n",
       "      <td>24000</td>\n",
       "      <td>12.05.1995</td>\n",
       "      <td>Diploma in Electronics &amp; Telecommunciation Eng...</td>\n",
       "      <td>4Years</td>\n",
       "      <td>NaN</td>\n",
       "      <td>NaN</td>\n",
       "      <td>NaN</td>\n",
       "    </tr>\n",
       "    <tr>\n",
       "      <th>13</th>\n",
       "      <td>15</td>\n",
       "      <td>24</td>\n",
       "      <td>Mr. Sandeep Giri</td>\n",
       "      <td>OT Technician</td>\n",
       "      <td>CVTS Department</td>\n",
       "      <td>Technician</td>\n",
       "      <td>2022-04-05</td>\n",
       "      <td>2023-04-05</td>\n",
       "      <td>35000</td>\n",
       "      <td>01.04.1987</td>\n",
       "      <td>OT Technician</td>\n",
       "      <td>15years</td>\n",
       "      <td>NaN</td>\n",
       "      <td>NaN</td>\n",
       "      <td>NaN</td>\n",
       "    </tr>\n",
       "    <tr>\n",
       "      <th>14</th>\n",
       "      <td>16</td>\n",
       "      <td>30</td>\n",
       "      <td>Mr.Mohsin Y. Khan</td>\n",
       "      <td>Assistan Growth</td>\n",
       "      <td>Growth Department</td>\n",
       "      <td>Assistan</td>\n",
       "      <td>2022-04-24</td>\n",
       "      <td>2023-04-26</td>\n",
       "      <td>22000</td>\n",
       "      <td>03.06.1986</td>\n",
       "      <td>B.SC</td>\n",
       "      <td>7years</td>\n",
       "      <td>NaN</td>\n",
       "      <td>NaN</td>\n",
       "      <td>NaN</td>\n",
       "    </tr>\n",
       "    <tr>\n",
       "      <th>15</th>\n",
       "      <td>17</td>\n",
       "      <td>32</td>\n",
       "      <td>Mr. Balu M. Kamble</td>\n",
       "      <td>Assistan Growth</td>\n",
       "      <td>Growth Department</td>\n",
       "      <td>Assistan</td>\n",
       "      <td>2022-05-01</td>\n",
       "      <td>2023-04-30</td>\n",
       "      <td>20000</td>\n",
       "      <td>07.01.1984</td>\n",
       "      <td>B.A &amp; M.A ( Sociology)</td>\n",
       "      <td>4Years</td>\n",
       "      <td>NaN</td>\n",
       "      <td>NaN</td>\n",
       "      <td>NaN</td>\n",
       "    </tr>\n",
       "    <tr>\n",
       "      <th>16</th>\n",
       "      <td>18</td>\n",
       "      <td>31</td>\n",
       "      <td>Mr. Ganesh G. Gadhave</td>\n",
       "      <td>Assistan Growth</td>\n",
       "      <td>Growth Department</td>\n",
       "      <td>Assistan</td>\n",
       "      <td>2022-05-01</td>\n",
       "      <td>2023-04-30</td>\n",
       "      <td>17000</td>\n",
       "      <td>10.08.1997</td>\n",
       "      <td>12th (HSC)</td>\n",
       "      <td>2Years</td>\n",
       "      <td>NaN</td>\n",
       "      <td>NaN</td>\n",
       "      <td>NaN</td>\n",
       "    </tr>\n",
       "    <tr>\n",
       "      <th>17</th>\n",
       "      <td>19</td>\n",
       "      <td>33</td>\n",
       "      <td>Mr.Sunil M.Buchude</td>\n",
       "      <td>Assistan Growth</td>\n",
       "      <td>Growth Department</td>\n",
       "      <td>Assistan</td>\n",
       "      <td>2022-05-01</td>\n",
       "      <td>2023-04-30</td>\n",
       "      <td>15000</td>\n",
       "      <td>05.02.1995</td>\n",
       "      <td>B.E Tech</td>\n",
       "      <td>1Years</td>\n",
       "      <td>NaN</td>\n",
       "      <td>NaN</td>\n",
       "      <td>NaN</td>\n",
       "    </tr>\n",
       "    <tr>\n",
       "      <th>18</th>\n",
       "      <td>20</td>\n",
       "      <td>31</td>\n",
       "      <td>Dr.Kiran A. Burkul</td>\n",
       "      <td>Clinical Assistant</td>\n",
       "      <td>Medical</td>\n",
       "      <td>RMO</td>\n",
       "      <td>2022-05-11</td>\n",
       "      <td>2023-05-10</td>\n",
       "      <td>16500</td>\n",
       "      <td>02.10.1995</td>\n",
       "      <td>BHMS</td>\n",
       "      <td>Fresher</td>\n",
       "      <td>NaN</td>\n",
       "      <td>NaN</td>\n",
       "      <td>NaN</td>\n",
       "    </tr>\n",
       "    <tr>\n",
       "      <th>19</th>\n",
       "      <td>21</td>\n",
       "      <td>42</td>\n",
       "      <td>Mr. Sandeep D. Sadaphal</td>\n",
       "      <td>Billing</td>\n",
       "      <td>Billing</td>\n",
       "      <td>Executive Billing</td>\n",
       "      <td>2022-06-01</td>\n",
       "      <td>2023-05-31</td>\n",
       "      <td>22000</td>\n",
       "      <td>30.11.1987</td>\n",
       "      <td>B. Com</td>\n",
       "      <td>9Years</td>\n",
       "      <td>NaN</td>\n",
       "      <td>NaN</td>\n",
       "      <td>NaN</td>\n",
       "    </tr>\n",
       "    <tr>\n",
       "      <th>20</th>\n",
       "      <td>22</td>\n",
       "      <td>43</td>\n",
       "      <td>Mr. Vikas V. Bhalerao</td>\n",
       "      <td>OT Technician</td>\n",
       "      <td>CVTS Department</td>\n",
       "      <td>Technician</td>\n",
       "      <td>2022-06-01</td>\n",
       "      <td>2023-05-31</td>\n",
       "      <td>22000</td>\n",
       "      <td>07.12.1991</td>\n",
       "      <td>Agriculture Diploma &amp; B.A</td>\n",
       "      <td>7years</td>\n",
       "      <td>NaN</td>\n",
       "      <td>NaN</td>\n",
       "      <td>NaN</td>\n",
       "    </tr>\n",
       "    <tr>\n",
       "      <th>21</th>\n",
       "      <td>23</td>\n",
       "      <td>34</td>\n",
       "      <td>Ms. Anita R. Sasne</td>\n",
       "      <td>Staff Nurse</td>\n",
       "      <td>Nursing</td>\n",
       "      <td>Nursing</td>\n",
       "      <td>2022-06-01</td>\n",
       "      <td>2023-05-31</td>\n",
       "      <td>17500</td>\n",
       "      <td>27.06.1995</td>\n",
       "      <td>GNM</td>\n",
       "      <td>2Years</td>\n",
       "      <td>XXVIII-54493</td>\n",
       "      <td>30.3.2022</td>\n",
       "      <td>NaN</td>\n",
       "    </tr>\n",
       "    <tr>\n",
       "      <th>22</th>\n",
       "      <td>24</td>\n",
       "      <td>38</td>\n",
       "      <td>Ms. Ashwani R. Thombare</td>\n",
       "      <td>Staff Nurse</td>\n",
       "      <td>Nursing</td>\n",
       "      <td>Nursing</td>\n",
       "      <td>2022-06-01</td>\n",
       "      <td>2023-05-31</td>\n",
       "      <td>16000</td>\n",
       "      <td>16.03.1998</td>\n",
       "      <td>ANM Nursing &amp; GNM Nursing</td>\n",
       "      <td>4Years</td>\n",
       "      <td>XI-15177</td>\n",
       "      <td>30.03.2022</td>\n",
       "      <td>NaN</td>\n",
       "    </tr>\n",
       "    <tr>\n",
       "      <th>23</th>\n",
       "      <td>25</td>\n",
       "      <td>37</td>\n",
       "      <td>Ms. Chhaya B. Savant</td>\n",
       "      <td>Staff Nurse</td>\n",
       "      <td>Nursing</td>\n",
       "      <td>Nursing</td>\n",
       "      <td>2022-06-01</td>\n",
       "      <td>2023-05-31</td>\n",
       "      <td>16000</td>\n",
       "      <td>09.06.1984</td>\n",
       "      <td>GNM</td>\n",
       "      <td>2Years</td>\n",
       "      <td>XXVIII-62511</td>\n",
       "      <td>30.03.2022</td>\n",
       "      <td>NaN</td>\n",
       "    </tr>\n",
       "    <tr>\n",
       "      <th>24</th>\n",
       "      <td>26</td>\n",
       "      <td>39</td>\n",
       "      <td>Mr. Gajanan B. Mundhe</td>\n",
       "      <td>Staff Nurse</td>\n",
       "      <td>Nursing</td>\n",
       "      <td>Nursing</td>\n",
       "      <td>2022-06-01</td>\n",
       "      <td>2023-05-31</td>\n",
       "      <td>16500</td>\n",
       "      <td>02.05.1996</td>\n",
       "      <td>R GNM</td>\n",
       "      <td>9Months</td>\n",
       "      <td>XLVI-4504</td>\n",
       "      <td>30.03.2027</td>\n",
       "      <td>NaN</td>\n",
       "    </tr>\n",
       "    <tr>\n",
       "      <th>25</th>\n",
       "      <td>27</td>\n",
       "      <td>40</td>\n",
       "      <td>Ms. Pradnya S. Khandare</td>\n",
       "      <td>Staff Nurse</td>\n",
       "      <td>Nursing</td>\n",
       "      <td>Nursing</td>\n",
       "      <td>2022-06-01</td>\n",
       "      <td>2023-05-31</td>\n",
       "      <td>15000</td>\n",
       "      <td>02.10.1996</td>\n",
       "      <td>ANM Nursing &amp; GNM Nursing</td>\n",
       "      <td>4Years</td>\n",
       "      <td>XXVIII-57664</td>\n",
       "      <td>30.03.2017</td>\n",
       "      <td>NaN</td>\n",
       "    </tr>\n",
       "    <tr>\n",
       "      <th>26</th>\n",
       "      <td>28</td>\n",
       "      <td>41</td>\n",
       "      <td>Ms. Ranjana R. Nair</td>\n",
       "      <td>Staff Nurse</td>\n",
       "      <td>Nursing</td>\n",
       "      <td>Nursing</td>\n",
       "      <td>2022-06-01</td>\n",
       "      <td>2023-05-31</td>\n",
       "      <td>16500</td>\n",
       "      <td>22.02.1984</td>\n",
       "      <td>BSC/ RGNM</td>\n",
       "      <td>4Years</td>\n",
       "      <td>NaN</td>\n",
       "      <td>NaN</td>\n",
       "      <td>NaN</td>\n",
       "    </tr>\n",
       "    <tr>\n",
       "      <th>27</th>\n",
       "      <td>29</td>\n",
       "      <td>36</td>\n",
       "      <td>Ms. Usha B. Jadhav</td>\n",
       "      <td>Staff Nurse</td>\n",
       "      <td>Nursing</td>\n",
       "      <td>Nursing</td>\n",
       "      <td>2022-06-01</td>\n",
       "      <td>2023-05-31</td>\n",
       "      <td>15000</td>\n",
       "      <td>15.01.1985</td>\n",
       "      <td>RANM Nursing. Diploma in GNM</td>\n",
       "      <td>4Years</td>\n",
       "      <td>17DN15807</td>\n",
       "      <td>NaN</td>\n",
       "      <td>NaN</td>\n",
       "    </tr>\n",
       "    <tr>\n",
       "      <th>28</th>\n",
       "      <td>30</td>\n",
       "      <td>35</td>\n",
       "      <td>Ms.Vidya N. Jadhav</td>\n",
       "      <td>Staff Nurse</td>\n",
       "      <td>Nursing</td>\n",
       "      <td>Nursing</td>\n",
       "      <td>2022-06-01</td>\n",
       "      <td>2023-05-31</td>\n",
       "      <td>17500</td>\n",
       "      <td>01.12.1993</td>\n",
       "      <td>R GNM</td>\n",
       "      <td>4Years</td>\n",
       "      <td>XXVIII-67324</td>\n",
       "      <td>6.12.2019</td>\n",
       "      <td>NaN</td>\n",
       "    </tr>\n",
       "    <tr>\n",
       "      <th>29</th>\n",
       "      <td>31</td>\n",
       "      <td>21</td>\n",
       "      <td>Mr. Manoj Bhagwan Sarode</td>\n",
       "      <td>Executive in Maintenace</td>\n",
       "      <td>Maintenace</td>\n",
       "      <td>Manager</td>\n",
       "      <td>2022-07-01</td>\n",
       "      <td>2023-06-30</td>\n",
       "      <td>16800</td>\n",
       "      <td>16.03.1982</td>\n",
       "      <td>Diploma in Auto Electrical &amp; Electronic</td>\n",
       "      <td>7years</td>\n",
       "      <td>NaN</td>\n",
       "      <td>NaN</td>\n",
       "      <td>NaN</td>\n",
       "    </tr>\n",
       "    <tr>\n",
       "      <th>30</th>\n",
       "      <td>32</td>\n",
       "      <td>22</td>\n",
       "      <td>Ms. Amrapali Ankush Tribhuvan</td>\n",
       "      <td>Staff Nurse</td>\n",
       "      <td>Nursing</td>\n",
       "      <td>Nursing</td>\n",
       "      <td>2022-08-01</td>\n",
       "      <td>2023-07-31</td>\n",
       "      <td>16000</td>\n",
       "      <td>14.10.1987</td>\n",
       "      <td>ANM Nursing &amp; GNM Nursing</td>\n",
       "      <td>10 Years</td>\n",
       "      <td>XXVIII-68563</td>\n",
       "      <td>30.03.2027</td>\n",
       "      <td>NaN</td>\n",
       "    </tr>\n",
       "  </tbody>\n",
       "</table>\n",
       "</div>"
      ],
      "text/plain": [
       "     1  29         Dr. Ashwini L. Bargaje       Clinical Assistant  \\\n",
       "0    2  25           Mr. Pratap V.Khedkar          Executive In HR   \n",
       "1    3  27        Mr. Shivdatta P. Gholap     Radiology Technician   \n",
       "2    4  30            Dr. Akshay W. Sonar       Clinical Assistant   \n",
       "3    5  23           Dr. Akshay M. Jadhav       Clinical Assistant   \n",
       "4    6  23       Dr. Anuradha R. Deshmukh       Clinical Assistant   \n",
       "5    7  25          Dr. Mahesh A. Mandora       Clinical Assistant   \n",
       "6    8  28             Dr. Nitin K. Mothe       Clinical Assistant   \n",
       "7    9  27            Dr. Pooja B.Kathore       Clinical Assistant   \n",
       "8   10  24               Dr. Uzma Phopere       Clinical Assistant   \n",
       "9   11  26            Dr. Varsha M. Pawar       Clinical Assistant   \n",
       "10  12  26              Mr. Bhushan Joshi        Senior Accountant   \n",
       "11  13  29               Ms. Zarin Ramani                   Matron   \n",
       "12  14  28      Mr. Shrikrushna B. Kokate      Biological Engineer   \n",
       "13  15  24               Mr. Sandeep Giri            OT Technician   \n",
       "14  16  30              Mr.Mohsin Y. Khan          Assistan Growth   \n",
       "15  17  32             Mr. Balu M. Kamble          Assistan Growth   \n",
       "16  18  31          Mr. Ganesh G. Gadhave          Assistan Growth   \n",
       "17  19  33             Mr.Sunil M.Buchude          Assistan Growth   \n",
       "18  20  31             Dr.Kiran A. Burkul       Clinical Assistant   \n",
       "19  21  42        Mr. Sandeep D. Sadaphal                  Billing   \n",
       "20  22  43          Mr. Vikas V. Bhalerao            OT Technician   \n",
       "21  23  34             Ms. Anita R. Sasne              Staff Nurse   \n",
       "22  24  38        Ms. Ashwani R. Thombare              Staff Nurse   \n",
       "23  25  37           Ms. Chhaya B. Savant              Staff Nurse   \n",
       "24  26  39          Mr. Gajanan B. Mundhe              Staff Nurse   \n",
       "25  27  40        Ms. Pradnya S. Khandare              Staff Nurse   \n",
       "26  28  41            Ms. Ranjana R. Nair              Staff Nurse   \n",
       "27  29  36             Ms. Usha B. Jadhav              Staff Nurse   \n",
       "28  30  35             Ms.Vidya N. Jadhav              Staff Nurse   \n",
       "29  31  21       Mr. Manoj Bhagwan Sarode  Executive in Maintenace   \n",
       "30  32  22  Ms. Amrapali Ankush Tribhuvan              Staff Nurse   \n",
       "\n",
       "              Medical                 RMO 2020-04-12 00:00:00  \\\n",
       "0                  HR               Admin          2021-07-01   \n",
       "1           Radiology          Technician          2021-07-01   \n",
       "2             Medical                 RMO          2021-07-27   \n",
       "3             Medical                 RMO          2022-01-01   \n",
       "4             Medical                 RMO          2022-01-01   \n",
       "5             Medical                 RMO          2022-01-01   \n",
       "6             Medical                 RMO          2022-01-01   \n",
       "7             Medical                 RMO          2022-01-01   \n",
       "8             Medical                 RMO          2022-01-01   \n",
       "9             Medical                 RMO          2022-01-01   \n",
       "10           Accounts             Manager          2022-01-01   \n",
       "11            Nursing              Matron          2022-02-04   \n",
       "12            Medical  Bio Mediacal Admin          2022-03-22   \n",
       "13    CVTS Department          Technician          2022-04-05   \n",
       "14  Growth Department            Assistan          2022-04-24   \n",
       "15  Growth Department            Assistan          2022-05-01   \n",
       "16  Growth Department            Assistan          2022-05-01   \n",
       "17  Growth Department            Assistan          2022-05-01   \n",
       "18            Medical                 RMO          2022-05-11   \n",
       "19            Billing   Executive Billing          2022-06-01   \n",
       "20    CVTS Department          Technician          2022-06-01   \n",
       "21            Nursing             Nursing          2022-06-01   \n",
       "22            Nursing             Nursing          2022-06-01   \n",
       "23            Nursing             Nursing          2022-06-01   \n",
       "24            Nursing             Nursing          2022-06-01   \n",
       "25            Nursing             Nursing          2022-06-01   \n",
       "26            Nursing             Nursing          2022-06-01   \n",
       "27            Nursing             Nursing          2022-06-01   \n",
       "28            Nursing             Nursing          2022-06-01   \n",
       "29         Maintenace             Manager          2022-07-01   \n",
       "30            Nursing             Nursing          2022-08-01   \n",
       "\n",
       "   2023-04-11 00:00:00  21000  11.07.1995  \\\n",
       "0           2022-06-30  25000  14.11.1979   \n",
       "1           2022-06-30  25000  18.12.1988   \n",
       "2           2022-07-26  18000  09.05.1997   \n",
       "3           2022-12-31  19000  14.10.1996   \n",
       "4           2022-12-31  18600   5.12.1996   \n",
       "5           2022-12-31  65000  21.09.1987   \n",
       "6           2022-12-31  18600  25.05.1983   \n",
       "7           2022-12-31  18600  05.12.1995   \n",
       "8           2022-12-31  18600  04.12.1988   \n",
       "9           2022-12-31  15300  13.06.1996   \n",
       "10          2023-12-31  45000  25.06.1986   \n",
       "11          2023-02-03  40000  10.02.1957   \n",
       "12          2023-03-21  24000  12.05.1995   \n",
       "13          2023-04-05  35000  01.04.1987   \n",
       "14          2023-04-26  22000  03.06.1986   \n",
       "15          2023-04-30  20000  07.01.1984   \n",
       "16          2023-04-30  17000  10.08.1997   \n",
       "17          2023-04-30  15000  05.02.1995   \n",
       "18          2023-05-10  16500  02.10.1995   \n",
       "19          2023-05-31  22000  30.11.1987   \n",
       "20          2023-05-31  22000  07.12.1991   \n",
       "21          2023-05-31  17500  27.06.1995   \n",
       "22          2023-05-31  16000  16.03.1998   \n",
       "23          2023-05-31  16000  09.06.1984   \n",
       "24          2023-05-31  16500  02.05.1996   \n",
       "25          2023-05-31  15000  02.10.1996   \n",
       "26          2023-05-31  16500  22.02.1984   \n",
       "27          2023-05-31  15000  15.01.1985   \n",
       "28          2023-05-31  17500  01.12.1993   \n",
       "29          2023-06-30  16800  16.03.1982   \n",
       "30          2023-07-31  16000  14.10.1987   \n",
       "\n",
       "                                                 BHMS    2Years  \\\n",
       "0                                    Bachelor Of Arts     1Year   \n",
       "1                        X-Raay Technician In Diploma    6Years   \n",
       "2                                                BHMS    4Years   \n",
       "3                                                BAMS    1Years   \n",
       "4                                                BHMS    3Years   \n",
       "5                                                BHMS    2Years   \n",
       "6                                                BHMS    2Years   \n",
       "7                                                BHMS    2Years   \n",
       "8                                                BHMS    1Years   \n",
       "9                                                BHMS   9Months   \n",
       "10                                             M. COM    3Years   \n",
       "11                                                GNM   20Years   \n",
       "12  Diploma in Electronics & Telecommunciation Eng...    4Years   \n",
       "13                                      OT Technician   15years   \n",
       "14                                               B.SC    7years   \n",
       "15                             B.A & M.A ( Sociology)    4Years   \n",
       "16                                         12th (HSC)    2Years   \n",
       "17                                           B.E Tech    1Years   \n",
       "18                                               BHMS   Fresher   \n",
       "19                                             B. Com    9Years   \n",
       "20                          Agriculture Diploma & B.A    7years   \n",
       "21                                                GNM    2Years   \n",
       "22                          ANM Nursing & GNM Nursing    4Years   \n",
       "23                                                GNM    2Years   \n",
       "24                                              R GNM   9Months   \n",
       "25                          ANM Nursing & GNM Nursing    4Years   \n",
       "26                                          BSC/ RGNM    4Years   \n",
       "27                       RANM Nursing. Diploma in GNM    4Years   \n",
       "28                                              R GNM    4Years   \n",
       "29            Diploma in Auto Electrical & Electronic    7years   \n",
       "30                          ANM Nursing & GNM Nursing  10 Years   \n",
       "\n",
       "               75634         NaN  NaN.1  \n",
       "0                NaN         NaN    NaN  \n",
       "1                NaN         NaN    NaN  \n",
       "2         1516138419         NaN    NaN  \n",
       "3              77980  24.02.2021    NaN  \n",
       "4              74571  14.02.2026    NaN  \n",
       "5   1028542012210070         NaN    NaN  \n",
       "6             124110         NaN    NaN  \n",
       "7              49553         NaN    NaN  \n",
       "8              56396         NaN    NaN  \n",
       "9              77821         NaN    NaN  \n",
       "10               NaN         NaN    NaN  \n",
       "11           I-21762   30.3.1982    NaN  \n",
       "12               NaN         NaN    NaN  \n",
       "13               NaN         NaN    NaN  \n",
       "14               NaN         NaN    NaN  \n",
       "15               NaN         NaN    NaN  \n",
       "16               NaN         NaN    NaN  \n",
       "17               NaN         NaN    NaN  \n",
       "18               NaN         NaN    NaN  \n",
       "19               NaN         NaN    NaN  \n",
       "20               NaN         NaN    NaN  \n",
       "21      XXVIII-54493   30.3.2022    NaN  \n",
       "22          XI-15177  30.03.2022    NaN  \n",
       "23      XXVIII-62511  30.03.2022    NaN  \n",
       "24         XLVI-4504  30.03.2027    NaN  \n",
       "25      XXVIII-57664  30.03.2017    NaN  \n",
       "26               NaN         NaN    NaN  \n",
       "27         17DN15807         NaN    NaN  \n",
       "28      XXVIII-67324   6.12.2019    NaN  \n",
       "29               NaN         NaN    NaN  \n",
       "30      XXVIII-68563  30.03.2027    NaN  "
      ]
     },
     "execution_count": 23,
     "metadata": {},
     "output_type": "execute_result"
    }
   ],
   "source": [
    "df1"
   ]
  },
  {
   "cell_type": "code",
   "execution_count": 24,
   "id": "910b3dbe-0adf-4b55-982e-8912a4bc709e",
   "metadata": {
    "tags": []
   },
   "outputs": [],
   "source": [
    "df = df1.copy()\n",
    "#make a copy of the DF (dataframe)"
   ]
  },
  {
   "cell_type": "code",
   "execution_count": 25,
   "id": "07cdb1c0-a413-447d-88e6-89c3ffa08596",
   "metadata": {
    "tags": []
   },
   "outputs": [
    {
     "data": {
      "text/html": [
       "<div>\n",
       "<style scoped>\n",
       "    .dataframe tbody tr th:only-of-type {\n",
       "        vertical-align: middle;\n",
       "    }\n",
       "\n",
       "    .dataframe tbody tr th {\n",
       "        vertical-align: top;\n",
       "    }\n",
       "\n",
       "    .dataframe thead th {\n",
       "        text-align: right;\n",
       "    }\n",
       "</style>\n",
       "<table border=\"1\" class=\"dataframe\">\n",
       "  <thead>\n",
       "    <tr style=\"text-align: right;\">\n",
       "      <th></th>\n",
       "      <th>1</th>\n",
       "      <th>29</th>\n",
       "      <th>Dr. Ashwini L. Bargaje</th>\n",
       "      <th>Clinical Assistant</th>\n",
       "      <th>Medical</th>\n",
       "      <th>RMO</th>\n",
       "      <th>2020-04-12 00:00:00</th>\n",
       "      <th>2023-04-11 00:00:00</th>\n",
       "      <th>21000</th>\n",
       "      <th>11.07.1995</th>\n",
       "      <th>BHMS</th>\n",
       "      <th>2Years</th>\n",
       "      <th>75634</th>\n",
       "      <th>NaN</th>\n",
       "      <th>NaN.1</th>\n",
       "    </tr>\n",
       "  </thead>\n",
       "  <tbody>\n",
       "    <tr>\n",
       "      <th>26</th>\n",
       "      <td>28</td>\n",
       "      <td>41</td>\n",
       "      <td>Ms. Ranjana R. Nair</td>\n",
       "      <td>Staff Nurse</td>\n",
       "      <td>Nursing</td>\n",
       "      <td>Nursing</td>\n",
       "      <td>2022-06-01</td>\n",
       "      <td>2023-05-31</td>\n",
       "      <td>16500</td>\n",
       "      <td>22.02.1984</td>\n",
       "      <td>BSC/ RGNM</td>\n",
       "      <td>4Years</td>\n",
       "      <td>NaN</td>\n",
       "      <td>NaN</td>\n",
       "      <td>NaN</td>\n",
       "    </tr>\n",
       "    <tr>\n",
       "      <th>27</th>\n",
       "      <td>29</td>\n",
       "      <td>36</td>\n",
       "      <td>Ms. Usha B. Jadhav</td>\n",
       "      <td>Staff Nurse</td>\n",
       "      <td>Nursing</td>\n",
       "      <td>Nursing</td>\n",
       "      <td>2022-06-01</td>\n",
       "      <td>2023-05-31</td>\n",
       "      <td>15000</td>\n",
       "      <td>15.01.1985</td>\n",
       "      <td>RANM Nursing. Diploma in GNM</td>\n",
       "      <td>4Years</td>\n",
       "      <td>17DN15807</td>\n",
       "      <td>NaN</td>\n",
       "      <td>NaN</td>\n",
       "    </tr>\n",
       "    <tr>\n",
       "      <th>28</th>\n",
       "      <td>30</td>\n",
       "      <td>35</td>\n",
       "      <td>Ms.Vidya N. Jadhav</td>\n",
       "      <td>Staff Nurse</td>\n",
       "      <td>Nursing</td>\n",
       "      <td>Nursing</td>\n",
       "      <td>2022-06-01</td>\n",
       "      <td>2023-05-31</td>\n",
       "      <td>17500</td>\n",
       "      <td>01.12.1993</td>\n",
       "      <td>R GNM</td>\n",
       "      <td>4Years</td>\n",
       "      <td>XXVIII-67324</td>\n",
       "      <td>6.12.2019</td>\n",
       "      <td>NaN</td>\n",
       "    </tr>\n",
       "    <tr>\n",
       "      <th>29</th>\n",
       "      <td>31</td>\n",
       "      <td>21</td>\n",
       "      <td>Mr. Manoj Bhagwan Sarode</td>\n",
       "      <td>Executive in Maintenace</td>\n",
       "      <td>Maintenace</td>\n",
       "      <td>Manager</td>\n",
       "      <td>2022-07-01</td>\n",
       "      <td>2023-06-30</td>\n",
       "      <td>16800</td>\n",
       "      <td>16.03.1982</td>\n",
       "      <td>Diploma in Auto Electrical &amp; Electronic</td>\n",
       "      <td>7years</td>\n",
       "      <td>NaN</td>\n",
       "      <td>NaN</td>\n",
       "      <td>NaN</td>\n",
       "    </tr>\n",
       "    <tr>\n",
       "      <th>30</th>\n",
       "      <td>32</td>\n",
       "      <td>22</td>\n",
       "      <td>Ms. Amrapali Ankush Tribhuvan</td>\n",
       "      <td>Staff Nurse</td>\n",
       "      <td>Nursing</td>\n",
       "      <td>Nursing</td>\n",
       "      <td>2022-08-01</td>\n",
       "      <td>2023-07-31</td>\n",
       "      <td>16000</td>\n",
       "      <td>14.10.1987</td>\n",
       "      <td>ANM Nursing &amp; GNM Nursing</td>\n",
       "      <td>10 Years</td>\n",
       "      <td>XXVIII-68563</td>\n",
       "      <td>30.03.2027</td>\n",
       "      <td>NaN</td>\n",
       "    </tr>\n",
       "  </tbody>\n",
       "</table>\n",
       "</div>"
      ],
      "text/plain": [
       "     1  29         Dr. Ashwini L. Bargaje       Clinical Assistant  \\\n",
       "26  28  41            Ms. Ranjana R. Nair              Staff Nurse   \n",
       "27  29  36             Ms. Usha B. Jadhav              Staff Nurse   \n",
       "28  30  35             Ms.Vidya N. Jadhav              Staff Nurse   \n",
       "29  31  21       Mr. Manoj Bhagwan Sarode  Executive in Maintenace   \n",
       "30  32  22  Ms. Amrapali Ankush Tribhuvan              Staff Nurse   \n",
       "\n",
       "       Medical      RMO 2020-04-12 00:00:00 2023-04-11 00:00:00  21000  \\\n",
       "26     Nursing  Nursing          2022-06-01          2023-05-31  16500   \n",
       "27     Nursing  Nursing          2022-06-01          2023-05-31  15000   \n",
       "28     Nursing  Nursing          2022-06-01          2023-05-31  17500   \n",
       "29  Maintenace  Manager          2022-07-01          2023-06-30  16800   \n",
       "30     Nursing  Nursing          2022-08-01          2023-07-31  16000   \n",
       "\n",
       "    11.07.1995                                     BHMS    2Years  \\\n",
       "26  22.02.1984                                BSC/ RGNM    4Years   \n",
       "27  15.01.1985             RANM Nursing. Diploma in GNM    4Years   \n",
       "28  01.12.1993                                    R GNM    4Years   \n",
       "29  16.03.1982  Diploma in Auto Electrical & Electronic    7years   \n",
       "30  14.10.1987                ANM Nursing & GNM Nursing  10 Years   \n",
       "\n",
       "           75634         NaN  NaN.1  \n",
       "26           NaN         NaN    NaN  \n",
       "27     17DN15807         NaN    NaN  \n",
       "28  XXVIII-67324   6.12.2019    NaN  \n",
       "29           NaN         NaN    NaN  \n",
       "30  XXVIII-68563  30.03.2027    NaN  "
      ]
     },
     "execution_count": 25,
     "metadata": {},
     "output_type": "execute_result"
    }
   ],
   "source": [
    "#df.head()\n",
    "df.tail()"
   ]
  },
  {
   "cell_type": "code",
   "execution_count": 26,
   "id": "f8442633-6ee9-4c2e-aac1-e3d71d2b2290",
   "metadata": {},
   "outputs": [
    {
     "data": {
      "text/plain": [
       "1                                  int64\n",
       "29                                 int64\n",
       "Dr. Ashwini L. Bargaje            object\n",
       "Clinical Assistant                object\n",
       "Medical                           object\n",
       "RMO                               object\n",
       "2020-04-12 00:00:00       datetime64[ns]\n",
       "2023-04-11 00:00:00       datetime64[ns]\n",
       "21000                              int64\n",
       "11.07.1995                        object\n",
       "BHMS                              object\n",
       "2Years                            object\n",
       "75634                             object\n",
       "NaN                               object\n",
       "NaN.1                            float64\n",
       "dtype: object"
      ]
     },
     "execution_count": 26,
     "metadata": {},
     "output_type": "execute_result"
    }
   ],
   "source": [
    "df.dtypes\n",
    "# data types.. character, string(object) number, integer, numeric/float, date, logical"
   ]
  },
  {
   "cell_type": "code",
   "execution_count": 27,
   "id": "0106bf83-7c31-4684-a671-2dd599062553",
   "metadata": {
    "tags": []
   },
   "outputs": [
    {
     "ename": "TypeError",
     "evalue": "sequence item 0: expected str instance, int found",
     "output_type": "error",
     "traceback": [
      "\u001b[1;31m---------------------------------------------------------------------------\u001b[0m",
      "\u001b[1;31mTypeError\u001b[0m                                 Traceback (most recent call last)",
      "Cell \u001b[1;32mIn[27], line 1\u001b[0m\n\u001b[1;32m----> 1\u001b[0m \u001b[38;5;28mprint\u001b[39m(\u001b[38;5;124m'\u001b[39m\u001b[38;5;124m, \u001b[39m\u001b[38;5;124m'\u001b[39m\u001b[38;5;241m.\u001b[39mjoin(df1\u001b[38;5;241m.\u001b[39mcolumns))\n\u001b[0;32m      2\u001b[0m newCols \u001b[38;5;241m=\u001b[39m [\u001b[38;5;124m'\u001b[39m\u001b[38;5;124mser\u001b[39m\u001b[38;5;124m'\u001b[39m,\u001b[38;5;124m'\u001b[39m\u001b[38;5;124mempCode\u001b[39m\u001b[38;5;124m'\u001b[39m,\u001b[38;5;124m'\u001b[39m\u001b[38;5;124meName\u001b[39m\u001b[38;5;124m'\u001b[39m, \u001b[38;5;124m'\u001b[39m\u001b[38;5;124mdesign\u001b[39m\u001b[38;5;124m'\u001b[39m,\u001b[38;5;124m'\u001b[39m\u001b[38;5;124mdept\u001b[39m\u001b[38;5;124m'\u001b[39m,\u001b[38;5;124m'\u001b[39m\u001b[38;5;124mcat\u001b[39m\u001b[38;5;124m'\u001b[39m,\u001b[38;5;124m'\u001b[39m\u001b[38;5;124mDOJ\u001b[39m\u001b[38;5;124m'\u001b[39m,\u001b[38;5;124m'\u001b[39m\u001b[38;5;124mDOL\u001b[39m\u001b[38;5;124m'\u001b[39m,\u001b[38;5;124m'\u001b[39m\u001b[38;5;124msal\u001b[39m\u001b[38;5;124m'\u001b[39m,\u001b[38;5;124m'\u001b[39m\u001b[38;5;124mDOB\u001b[39m\u001b[38;5;124m'\u001b[39m,\u001b[38;5;124m'\u001b[39m\u001b[38;5;124mqual\u001b[39m\u001b[38;5;124m'\u001b[39m,\u001b[38;5;124m'\u001b[39m\u001b[38;5;124mexpr\u001b[39m\u001b[38;5;124m'\u001b[39m,\u001b[38;5;124m'\u001b[39m\u001b[38;5;124mregdNo\u001b[39m\u001b[38;5;124m'\u001b[39m,\u001b[38;5;124m'\u001b[39m\u001b[38;5;124mregdVal\u001b[39m\u001b[38;5;124m'\u001b[39m,\u001b[38;5;124m'\u001b[39m\u001b[38;5;124mremarks\u001b[39m\u001b[38;5;124m'\u001b[39m]\n\u001b[0;32m      3\u001b[0m df\u001b[38;5;241m.\u001b[39mcolumns \u001b[38;5;241m=\u001b[39m newCols\n",
      "\u001b[1;31mTypeError\u001b[0m: sequence item 0: expected str instance, int found"
     ]
    }
   ],
   "source": [
    "print(', '.join(df1.columns))\n",
    "newCols = ['ser','empCode','eName', 'design','dept','cat','DOJ','DOL','sal','DOB','qual','expr','regdNo','regdVal','remarks']\n",
    "df.columns = newCols\n",
    "print(', '.join(df.columns))"
   ]
  },
  {
   "cell_type": "code",
   "execution_count": 28,
   "id": "1fddb12c-c8c3-429f-a390-8fb4a7ced658",
   "metadata": {
    "tags": []
   },
   "outputs": [
    {
     "data": {
      "text/html": [
       "<div>\n",
       "<style scoped>\n",
       "    .dataframe tbody tr th:only-of-type {\n",
       "        vertical-align: middle;\n",
       "    }\n",
       "\n",
       "    .dataframe tbody tr th {\n",
       "        vertical-align: top;\n",
       "    }\n",
       "\n",
       "    .dataframe thead th {\n",
       "        text-align: right;\n",
       "    }\n",
       "</style>\n",
       "<table border=\"1\" class=\"dataframe\">\n",
       "  <thead>\n",
       "    <tr style=\"text-align: right;\">\n",
       "      <th></th>\n",
       "      <th>1</th>\n",
       "      <th>29</th>\n",
       "      <th>Dr. Ashwini L. Bargaje</th>\n",
       "      <th>Clinical Assistant</th>\n",
       "      <th>Medical</th>\n",
       "      <th>RMO</th>\n",
       "      <th>2020-04-12 00:00:00</th>\n",
       "      <th>2023-04-11 00:00:00</th>\n",
       "      <th>21000</th>\n",
       "      <th>11.07.1995</th>\n",
       "      <th>BHMS</th>\n",
       "      <th>2Years</th>\n",
       "      <th>75634</th>\n",
       "      <th>NaN</th>\n",
       "      <th>NaN.1</th>\n",
       "    </tr>\n",
       "  </thead>\n",
       "  <tbody>\n",
       "    <tr>\n",
       "      <th>0</th>\n",
       "      <td>2</td>\n",
       "      <td>25</td>\n",
       "      <td>Mr. Pratap V.Khedkar</td>\n",
       "      <td>Executive In HR</td>\n",
       "      <td>HR</td>\n",
       "      <td>Admin</td>\n",
       "      <td>2021-07-01</td>\n",
       "      <td>2022-06-30</td>\n",
       "      <td>25000</td>\n",
       "      <td>14.11.1979</td>\n",
       "      <td>Bachelor Of Arts</td>\n",
       "      <td>1Year</td>\n",
       "      <td>NaN</td>\n",
       "      <td>NaN</td>\n",
       "      <td>NaN</td>\n",
       "    </tr>\n",
       "    <tr>\n",
       "      <th>1</th>\n",
       "      <td>3</td>\n",
       "      <td>27</td>\n",
       "      <td>Mr. Shivdatta P. Gholap</td>\n",
       "      <td>Radiology Technician</td>\n",
       "      <td>Radiology</td>\n",
       "      <td>Technician</td>\n",
       "      <td>2021-07-01</td>\n",
       "      <td>2022-06-30</td>\n",
       "      <td>25000</td>\n",
       "      <td>18.12.1988</td>\n",
       "      <td>X-Raay Technician In Diploma</td>\n",
       "      <td>6Years</td>\n",
       "      <td>NaN</td>\n",
       "      <td>NaN</td>\n",
       "      <td>NaN</td>\n",
       "    </tr>\n",
       "    <tr>\n",
       "      <th>2</th>\n",
       "      <td>4</td>\n",
       "      <td>30</td>\n",
       "      <td>Dr. Akshay W. Sonar</td>\n",
       "      <td>Clinical Assistant</td>\n",
       "      <td>Medical</td>\n",
       "      <td>RMO</td>\n",
       "      <td>2021-07-27</td>\n",
       "      <td>2022-07-26</td>\n",
       "      <td>18000</td>\n",
       "      <td>09.05.1997</td>\n",
       "      <td>BHMS</td>\n",
       "      <td>4Years</td>\n",
       "      <td>1516138419</td>\n",
       "      <td>NaN</td>\n",
       "      <td>NaN</td>\n",
       "    </tr>\n",
       "    <tr>\n",
       "      <th>3</th>\n",
       "      <td>5</td>\n",
       "      <td>23</td>\n",
       "      <td>Dr. Akshay M. Jadhav</td>\n",
       "      <td>Clinical Assistant</td>\n",
       "      <td>Medical</td>\n",
       "      <td>RMO</td>\n",
       "      <td>2022-01-01</td>\n",
       "      <td>2022-12-31</td>\n",
       "      <td>19000</td>\n",
       "      <td>14.10.1996</td>\n",
       "      <td>BAMS</td>\n",
       "      <td>1Years</td>\n",
       "      <td>77980</td>\n",
       "      <td>24.02.2021</td>\n",
       "      <td>NaN</td>\n",
       "    </tr>\n",
       "    <tr>\n",
       "      <th>4</th>\n",
       "      <td>6</td>\n",
       "      <td>23</td>\n",
       "      <td>Dr. Anuradha R. Deshmukh</td>\n",
       "      <td>Clinical Assistant</td>\n",
       "      <td>Medical</td>\n",
       "      <td>RMO</td>\n",
       "      <td>2022-01-01</td>\n",
       "      <td>2022-12-31</td>\n",
       "      <td>18600</td>\n",
       "      <td>5.12.1996</td>\n",
       "      <td>BHMS</td>\n",
       "      <td>3Years</td>\n",
       "      <td>74571</td>\n",
       "      <td>14.02.2026</td>\n",
       "      <td>NaN</td>\n",
       "    </tr>\n",
       "  </tbody>\n",
       "</table>\n",
       "</div>"
      ],
      "text/plain": [
       "   1  29    Dr. Ashwini L. Bargaje    Clinical Assistant    Medical  \\\n",
       "0  2  25      Mr. Pratap V.Khedkar       Executive In HR         HR   \n",
       "1  3  27   Mr. Shivdatta P. Gholap  Radiology Technician  Radiology   \n",
       "2  4  30       Dr. Akshay W. Sonar    Clinical Assistant    Medical   \n",
       "3  5  23      Dr. Akshay M. Jadhav    Clinical Assistant    Medical   \n",
       "4  6  23  Dr. Anuradha R. Deshmukh    Clinical Assistant    Medical   \n",
       "\n",
       "          RMO 2020-04-12 00:00:00 2023-04-11 00:00:00  21000  11.07.1995  \\\n",
       "0       Admin          2021-07-01          2022-06-30  25000  14.11.1979   \n",
       "1  Technician          2021-07-01          2022-06-30  25000  18.12.1988   \n",
       "2         RMO          2021-07-27          2022-07-26  18000  09.05.1997   \n",
       "3         RMO          2022-01-01          2022-12-31  19000  14.10.1996   \n",
       "4         RMO          2022-01-01          2022-12-31  18600   5.12.1996   \n",
       "\n",
       "                           BHMS  2Years       75634         NaN  NaN.1  \n",
       "0              Bachelor Of Arts   1Year         NaN         NaN    NaN  \n",
       "1  X-Raay Technician In Diploma  6Years         NaN         NaN    NaN  \n",
       "2                          BHMS  4Years  1516138419         NaN    NaN  \n",
       "3                          BAMS  1Years       77980  24.02.2021    NaN  \n",
       "4                          BHMS  3Years       74571  14.02.2026    NaN  "
      ]
     },
     "execution_count": 28,
     "metadata": {},
     "output_type": "execute_result"
    }
   ],
   "source": [
    "df.head()"
   ]
  },
  {
   "cell_type": "markdown",
   "id": "6d2ec9e2-f53b-4d1f-8477-44fdfced4f0e",
   "metadata": {},
   "source": [
    "## clean dates"
   ]
  },
  {
   "cell_type": "code",
   "execution_count": null,
   "id": "92d7c5a0-c985-42b7-90b2-f997581b0cf0",
   "metadata": {
    "tags": []
   },
   "outputs": [],
   "source": [
    "df.regdVal[1:5]"
   ]
  },
  {
   "cell_type": "markdown",
   "id": "003aa2ae-6c48-4a53-9941-3188bf185928",
   "metadata": {
    "tags": []
   },
   "source": [
    "# convert multiple date to date format\n",
    "dtCols1 = ['DOB','regdVal']\n",
    "df[dtCols1] = df[dtCols1].apply(pd.to_datetime, format='%d.%m.%Y')\n",
    "df.dtypes"
   ]
  },
  {
   "cell_type": "code",
   "execution_count": 30,
   "id": "a11b9206-0c5d-4ffa-837f-ef7e15c77430",
   "metadata": {
    "tags": []
   },
   "outputs": [],
   "source": [
    "#df.regdVal"
   ]
  },
  {
   "cell_type": "code",
   "execution_count": 31,
   "id": "c6ba8b34-6dab-4628-99d0-70e576935de6",
   "metadata": {
    "tags": []
   },
   "outputs": [
    {
     "ename": "AttributeError",
     "evalue": "'DataFrame' object has no attribute 'regdVal'",
     "output_type": "error",
     "traceback": [
      "\u001b[1;31m---------------------------------------------------------------------------\u001b[0m",
      "\u001b[1;31mAttributeError\u001b[0m                            Traceback (most recent call last)",
      "\u001b[1;32m~\\AppData\\Local\\Temp\\ipykernel_15896\\4290195077.py\u001b[0m in \u001b[0;36m?\u001b[1;34m()\u001b[0m\n\u001b[1;32m----> 1\u001b[1;33m \u001b[0mdf\u001b[0m\u001b[1;33m[\u001b[0m\u001b[0mpd\u001b[0m\u001b[1;33m.\u001b[0m\u001b[0mnotnull\u001b[0m\u001b[1;33m(\u001b[0m\u001b[0mdf\u001b[0m\u001b[1;33m.\u001b[0m\u001b[0mregdVal\u001b[0m\u001b[1;33m)\u001b[0m\u001b[1;33m]\u001b[0m\u001b[1;33m\u001b[0m\u001b[1;33m\u001b[0m\u001b[0m\n\u001b[0m\u001b[0;32m      2\u001b[0m \u001b[1;31m#show only non missing values to get existing data format\u001b[0m\u001b[1;33m\u001b[0m\u001b[1;33m\u001b[0m\u001b[0m\n",
      "\u001b[1;32mC:\\ProgramData\\anaconda3\\Lib\\site-packages\\pandas\\core\\generic.py\u001b[0m in \u001b[0;36m?\u001b[1;34m(self, name)\u001b[0m\n\u001b[0;32m   5985\u001b[0m             \u001b[1;32mand\u001b[0m \u001b[0mname\u001b[0m \u001b[1;32mnot\u001b[0m \u001b[1;32min\u001b[0m \u001b[0mself\u001b[0m\u001b[1;33m.\u001b[0m\u001b[0m_accessors\u001b[0m\u001b[1;33m\u001b[0m\u001b[1;33m\u001b[0m\u001b[0m\n\u001b[0;32m   5986\u001b[0m             \u001b[1;32mand\u001b[0m \u001b[0mself\u001b[0m\u001b[1;33m.\u001b[0m\u001b[0m_info_axis\u001b[0m\u001b[1;33m.\u001b[0m\u001b[0m_can_hold_identifiers_and_holds_name\u001b[0m\u001b[1;33m(\u001b[0m\u001b[0mname\u001b[0m\u001b[1;33m)\u001b[0m\u001b[1;33m\u001b[0m\u001b[1;33m\u001b[0m\u001b[0m\n\u001b[0;32m   5987\u001b[0m         ):\n\u001b[0;32m   5988\u001b[0m             \u001b[1;32mreturn\u001b[0m \u001b[0mself\u001b[0m\u001b[1;33m[\u001b[0m\u001b[0mname\u001b[0m\u001b[1;33m]\u001b[0m\u001b[1;33m\u001b[0m\u001b[1;33m\u001b[0m\u001b[0m\n\u001b[1;32m-> 5989\u001b[1;33m         \u001b[1;32mreturn\u001b[0m \u001b[0mobject\u001b[0m\u001b[1;33m.\u001b[0m\u001b[0m__getattribute__\u001b[0m\u001b[1;33m(\u001b[0m\u001b[0mself\u001b[0m\u001b[1;33m,\u001b[0m \u001b[0mname\u001b[0m\u001b[1;33m)\u001b[0m\u001b[1;33m\u001b[0m\u001b[1;33m\u001b[0m\u001b[0m\n\u001b[0m",
      "\u001b[1;31mAttributeError\u001b[0m: 'DataFrame' object has no attribute 'regdVal'"
     ]
    }
   ],
   "source": [
    "df[pd.notnull(df.regdVal)]\n",
    "#show only non missing values to get existing data format"
   ]
  },
  {
   "cell_type": "code",
   "execution_count": null,
   "id": "8ccecd9f-8db2-4866-ae18-dcaa3e7941f0",
   "metadata": {
    "tags": []
   },
   "outputs": [],
   "source": [
    "df.regdVal = pd.to_datetime(df.regdVal, format='%d.%m.%Y')\n",
    "df.regdVal[pd.notnull(df.regdVal)]"
   ]
  },
  {
   "cell_type": "code",
   "execution_count": null,
   "id": "21d7676d-ecac-491f-9e20-78621fbee68e",
   "metadata": {
    "tags": []
   },
   "outputs": [],
   "source": [
    "df[pd.notnull(df.regdVal)]"
   ]
  },
  {
   "cell_type": "code",
   "execution_count": null,
   "id": "d33f60ea-6b8f-41ac-9f3c-17fdf9b6aef2",
   "metadata": {
    "tags": []
   },
   "outputs": [],
   "source": [
    "df.head()"
   ]
  },
  {
   "cell_type": "code",
   "execution_count": null,
   "id": "c97400f1-da58-45d5-85fb-561ee2605894",
   "metadata": {
    "tags": []
   },
   "outputs": [],
   "source": [
    "df.DOB[pd.notnull(df.DOB)].head()"
   ]
  },
  {
   "cell_type": "code",
   "execution_count": null,
   "id": "849f7507-f139-4cc1-83b4-011073556db1",
   "metadata": {
    "tags": []
   },
   "outputs": [],
   "source": [
    "df.DOB = pd.to_datetime(df.DOB, format='%d.%m.%Y')\n",
    "df[['DOJ','DOL','DOB','regdVal']].head(10)\n",
    "#convert in to dates, multiple Cols ???"
   ]
  },
  {
   "cell_type": "markdown",
   "id": "782a9115-3a27-4b96-9e4c-c63b27055a87",
   "metadata": {},
   "source": [
    "### Days Served"
   ]
  },
  {
   "cell_type": "code",
   "execution_count": null,
   "id": "df3cfc4d-e762-4b63-b500-31c36c8e77cf",
   "metadata": {
    "tags": []
   },
   "outputs": [],
   "source": [
    "# find months served, age in years\n",
    "now = dt.datetime.today()\n",
    "today = dt.date.today()\n",
    "print(now, ' :: ', today, ' :: ', str(today), \" ::  Indian Format \", today.strftime('%d-%b-%Y'))"
   ]
  },
  {
   "cell_type": "code",
   "execution_count": null,
   "id": "7c4110a2-0c54-4864-9b99-516cd8828394",
   "metadata": {
    "tags": []
   },
   "outputs": [],
   "source": [
    "(df.DOL - df.DOJ).head() #/np.timedelta64(1, 'D'))"
   ]
  },
  {
   "cell_type": "code",
   "execution_count": null,
   "id": "96f5e03e-9416-4b60-a3b1-660a5b69e411",
   "metadata": {
    "tags": []
   },
   "outputs": [],
   "source": [
    "df['daysServed'] = ((df.DOL - df.DOJ)/np.timedelta64(1, 'D')).astype(int)  #convert into integer\n",
    "df[['DOJ','DOL','daysServed', 'DOB','regdVal', ]].head()"
   ]
  },
  {
   "cell_type": "code",
   "execution_count": null,
   "id": "577b8c1e-cffc-46be-b9b2-494fef925775",
   "metadata": {
    "tags": []
   },
   "outputs": [],
   "source": [
    "#df[['empID','DOJ','DOL']]\n",
    "df[\"monServed\"] = (df['DOL'] - df[\"DOJ\"]).dt.days\n",
    "# (df['date'] - dt.datetime.now()).dt.days\n",
    "df['monServed'] = np.round(df[\"monServed\"]/30)\n",
    "df[['DOJ','DOL','daysServed', 'monServed', 'DOB','regdVal', ]].head()"
   ]
  },
  {
   "cell_type": "markdown",
   "id": "34e27c83-2c80-45ca-9666-b73f3fa76473",
   "metadata": {},
   "source": [
    "### Age in years\n",
    "-  all data for DOB, current date"
   ]
  },
  {
   "cell_type": "code",
   "execution_count": null,
   "id": "5fe07247-3896-456b-a74e-2f48179bc70d",
   "metadata": {
    "tags": []
   },
   "outputs": [],
   "source": [
    "now = pd.Timestamp(dt.datetime.now())\n",
    "print(now)\n",
    "df[\"age\"] = ((now - df[\"DOB\"]))\n",
    "df['age'] = np.round(df[\"age\"].dt.days / 365)  #years"
   ]
  },
  {
   "cell_type": "code",
   "execution_count": null,
   "id": "4fa2a15d-9acf-4955-aa3b-88a0c5084376",
   "metadata": {
    "tags": []
   },
   "outputs": [],
   "source": [
    "df[['DOJ','DOL','daysServed', 'monServed','DOB','age','regdVal', ]].head()"
   ]
  },
  {
   "cell_type": "code",
   "execution_count": null,
   "id": "d03ed218-f024-451c-8aa2-a1f48f8f0060",
   "metadata": {
    "tags": []
   },
   "outputs": [],
   "source": [
    "', '.join(df.columns)"
   ]
  },
  {
   "cell_type": "code",
   "execution_count": null,
   "id": "15697a73-e2d3-44eb-8092-6ae2c9ee6293",
   "metadata": {
    "tags": []
   },
   "outputs": [],
   "source": [
    "df.head()"
   ]
  },
  {
   "cell_type": "code",
   "execution_count": null,
   "id": "e8a7c84c-bcee-4f60-ae85-78c6f46416b5",
   "metadata": {
    "tags": []
   },
   "outputs": [],
   "source": [
    "df['exprYr'] = df['expr'].str.extract('(\\d+)', expand=False).astype('float')"
   ]
  },
  {
   "cell_type": "code",
   "execution_count": null,
   "id": "08ee3d26-0b5b-4a29-a330-fbddd8568269",
   "metadata": {
    "tags": []
   },
   "outputs": [],
   "source": [
    "print(list(df['expr']))\n",
    "#df.expr.to_string()  #show horintally\n",
    "#different ways Year, Year,years, Months, Fresher ## remove Years from experience"
   ]
  },
  {
   "cell_type": "code",
   "execution_count": null,
   "id": "fd29d9d1-e29f-498a-9f5a-630b91ad59cc",
   "metadata": {
    "tags": []
   },
   "outputs": [],
   "source": [
    "print(list(df.exprYr), '\\n', list(df.expr))"
   ]
  },
  {
   "cell_type": "code",
   "execution_count": null,
   "id": "c2d9d025-2269-4023-a467-1049aa634983",
   "metadata": {
    "tags": []
   },
   "outputs": [],
   "source": [
    "pd.concat([df.expr, df.exprYr], axis=1, ignore_index=True)"
   ]
  },
  {
   "cell_type": "code",
   "execution_count": null,
   "id": "546ff759-2b17-4d28-b820-b0e180754dda",
   "metadata": {
    "tags": []
   },
   "outputs": [],
   "source": [
    "df[df.expr.str.contains('Months|month|mon')]"
   ]
  },
  {
   "cell_type": "code",
   "execution_count": null,
   "id": "b03455eb-dfd6-4ba5-82e4-11d13d9c4d6a",
   "metadata": {
    "tags": []
   },
   "outputs": [],
   "source": [
    "df.dtypes"
   ]
  },
  {
   "cell_type": "code",
   "execution_count": null,
   "id": "eb0d2405-cd14-4de7-9465-d8c7cd2d8234",
   "metadata": {
    "tags": []
   },
   "outputs": [],
   "source": [
    "df.loc[df.expr.str.contains('Months|month|mon'), 'exprYr'] = df.exprYr / 12"
   ]
  },
  {
   "cell_type": "code",
   "execution_count": null,
   "id": "656d4cc7-dbd4-4eb2-a722-649f68072ca1",
   "metadata": {
    "tags": []
   },
   "outputs": [],
   "source": [
    "df[df.expr.str.contains('Months|month|mon')]"
   ]
  },
  {
   "cell_type": "code",
   "execution_count": null,
   "id": "9609bd4c-4f42-4cd6-802e-81c99b6be6fd",
   "metadata": {
    "tags": []
   },
   "outputs": [],
   "source": [
    "removeList = ['Year','Years','year', 'years','Months','Fresher',' Years','s']\n",
    "for WORD in removeList:\n",
    "    df['expr'] = df['expr'].str.replace(WORD, '')\n",
    "df.expr.to_string() "
   ]
  },
  {
   "cell_type": "code",
   "execution_count": null,
   "id": "3d94ad33-ca4b-40f7-9575-18f53a0ccecb",
   "metadata": {
    "tags": []
   },
   "outputs": [],
   "source": [
    "df.dtypes"
   ]
  },
  {
   "cell_type": "code",
   "execution_count": null,
   "id": "239cfda8-b387-4734-a3cc-821039d8eefd",
   "metadata": {
    "tags": []
   },
   "outputs": [],
   "source": [
    "df.expr.head()"
   ]
  },
  {
   "cell_type": "code",
   "execution_count": null,
   "id": "52b3efe7-d34b-4542-801f-f285751a4357",
   "metadata": {
    "tags": []
   },
   "outputs": [],
   "source": [
    "df['expr'].str.strip().head()"
   ]
  },
  {
   "cell_type": "code",
   "execution_count": null,
   "id": "138bd71f-fe7f-4320-986a-4cb2cf8555b1",
   "metadata": {
    "tags": []
   },
   "outputs": [],
   "source": [
    "print(df['expr'].max(), df['age'].max())\n",
    "#df.dtypes"
   ]
  },
  {
   "cell_type": "code",
   "execution_count": null,
   "id": "cb447f38-30e4-410f-ace7-2d8df45f6728",
   "metadata": {
    "tags": []
   },
   "outputs": [],
   "source": [
    "df.expr = pd.to_numeric(df.expr, errors=\"coerce\")\n",
    "df.head()"
   ]
  },
  {
   "cell_type": "code",
   "execution_count": null,
   "id": "48a656d4-dbc8-452b-b03c-f1dd636ba649",
   "metadata": {
    "tags": []
   },
   "outputs": [],
   "source": [
    "df.expr"
   ]
  },
  {
   "cell_type": "code",
   "execution_count": null,
   "id": "f016d7bc-13a0-4a7c-beeb-ab5944da9161",
   "metadata": {
    "tags": []
   },
   "outputs": [],
   "source": [
    "df.dtypes"
   ]
  },
  {
   "cell_type": "markdown",
   "id": "29b6d62d-1f16-4846-8e7c-195e72720a51",
   "metadata": {},
   "source": [
    "## Summaries\n",
    "-  Find missing data\n",
    "-  Dept Wise \n",
    "    -  Salary - min, max, mean, median\n",
    "    -  Age - min, max, mean\n",
    "-  Find keywords in \n",
    "    -  designation\n",
    "    -  qualifications\n",
    "    -  name\n",
    "-  Experience"
   ]
  },
  {
   "cell_type": "code",
   "execution_count": null,
   "id": "ed4f3a52-bf59-4567-a824-e1cf7afaf214",
   "metadata": {
    "tags": []
   },
   "outputs": [],
   "source": [
    "df"
   ]
  },
  {
   "cell_type": "code",
   "execution_count": null,
   "id": "b1870025-2602-4fee-a52a-0fd170c82f05",
   "metadata": {
    "tags": []
   },
   "outputs": [],
   "source": [
    "df.head()"
   ]
  },
  {
   "cell_type": "code",
   "execution_count": null,
   "id": "cd0d6a4d-2259-41fe-87c3-44df7a9315d7",
   "metadata": {
    "tags": []
   },
   "outputs": [],
   "source": [
    "### Missing Values\n",
    "df.isnull().head()"
   ]
  },
  {
   "cell_type": "code",
   "execution_count": null,
   "id": "04fffccf-6807-4d87-94bc-60014061b20e",
   "metadata": {
    "tags": []
   },
   "outputs": [],
   "source": [
    "df.isnull().sum(axis=0)  #each column"
   ]
  },
  {
   "cell_type": "code",
   "execution_count": null,
   "id": "fd425640-57c8-4954-ac9c-5420273dadd3",
   "metadata": {
    "tags": []
   },
   "outputs": [],
   "source": [
    "df.isnull().sum(axis=1) #each row"
   ]
  },
  {
   "cell_type": "code",
   "execution_count": null,
   "id": "a6ac9145-59e5-4565-b00b-6808b044ca7b",
   "metadata": {
    "tags": []
   },
   "outputs": [],
   "source": [
    "df['expr'] = df['expr'].fillna(0)\n",
    "df.isnull().sum(axis=0)  #each column"
   ]
  },
  {
   "cell_type": "code",
   "execution_count": null,
   "id": "887e3478-1718-418e-9d1b-b89a70ec2560",
   "metadata": {
    "tags": []
   },
   "outputs": [],
   "source": [
    "df.loc[19,]"
   ]
  },
  {
   "cell_type": "markdown",
   "id": "6f5aa678-04aa-454a-98f5-d6a8ed692a34",
   "metadata": {},
   "source": [
    "### Search for string in DF\n",
    "-   series.str.find(sub, start, end)\n",
    "-   series.str.containst(sub)"
   ]
  },
  {
   "cell_type": "code",
   "execution_count": null,
   "id": "b91f6cf2-d4c5-4424-9bec-5e971aad5e6a",
   "metadata": {
    "tags": []
   },
   "outputs": [],
   "source": [
    "', '.join(df.design.unique())"
   ]
  },
  {
   "cell_type": "code",
   "execution_count": null,
   "id": "8d59d0eb-7cdc-4715-bd16-463cf0e5f057",
   "metadata": {
    "tags": []
   },
   "outputs": [],
   "source": [
    "df[ df.design.str.contains('HR|Matron')]"
   ]
  },
  {
   "cell_type": "code",
   "execution_count": null,
   "id": "0d2165b0-6a86-4ed8-9ef7-aae91d9ea128",
   "metadata": {
    "tags": []
   },
   "outputs": [],
   "source": [
    "df.design.str.find('HR') #character position where HR is found"
   ]
  },
  {
   "cell_type": "code",
   "execution_count": null,
   "id": "9f1f7a3e-990d-4f46-9c56-896b46333f55",
   "metadata": {
    "tags": []
   },
   "outputs": [],
   "source": [
    "df[ df.design.str.contains('hr|technician', case=False, regex=True) ]"
   ]
  },
  {
   "cell_type": "code",
   "execution_count": null,
   "id": "35e8666e-bb3a-44b0-b9b5-76f1c596a60c",
   "metadata": {
    "tags": []
   },
   "outputs": [],
   "source": [
    "df[ df.qual.str.contains('Arts|Diploma|BA', case=True, regex=True) ]"
   ]
  },
  {
   "cell_type": "code",
   "execution_count": null,
   "id": "ded2c13d-e43f-437a-8e2b-f916d7e2e4b1",
   "metadata": {
    "tags": []
   },
   "outputs": [],
   "source": [
    "myList = ['Arts','Diploma','BA','bsc']\n",
    "pattern = '|'.join(myList)\n",
    "print(pattern)\n",
    "#df[ df.qual.str.contains(pattern, case=False, regex=True) ]\n",
    "df[ df.qual.str.contains('Arts|Diploma|BA|bsc', case=False, regex=True) ]"
   ]
  },
  {
   "cell_type": "code",
   "execution_count": null,
   "id": "a70c46c1-8a4b-488b-a2b7-901aef5bcafd",
   "metadata": {
    "tags": []
   },
   "outputs": [],
   "source": [
    "df[ df.eName.str.contains('Jadhav|Kok', case=False, regex=True) ]"
   ]
  },
  {
   "cell_type": "code",
   "execution_count": null,
   "id": "18ef99a4-8e24-4f45-95af-e66120a85044",
   "metadata": {
    "tags": []
   },
   "outputs": [],
   "source": [
    "df.to_csv('empData1.csv', index=False)"
   ]
  },
  {
   "cell_type": "markdown",
   "id": "aa1018e6-e6aa-49c0-be41-7ebbba3d39ef",
   "metadata": {},
   "source": [
    "## Groupby Summaries\n",
    "-  Top Salaries by Dept"
   ]
  },
  {
   "cell_type": "code",
   "execution_count": null,
   "id": "a86c8e3c-ecb0-4edc-af57-42cb619d412b",
   "metadata": {
    "tags": []
   },
   "outputs": [],
   "source": [
    "df.iloc[:,[0,1]].head()"
   ]
  },
  {
   "cell_type": "code",
   "execution_count": null,
   "id": "3d72f239-fe38-4439-ada0-22309f02cb48",
   "metadata": {
    "tags": []
   },
   "outputs": [],
   "source": [
    "df.loc[0:3,['sal','dept']] #index\n",
    "#df.loc[:, ['column1', 'column3', 'column4']] "
   ]
  },
  {
   "cell_type": "code",
   "execution_count": null,
   "id": "bc708c69-429b-461a-b4b3-291a7772c585",
   "metadata": {
    "tags": []
   },
   "outputs": [],
   "source": [
    "df.sort_values(by=['dept','sal'], ascending=[True,False])"
   ]
  },
  {
   "cell_type": "code",
   "execution_count": null,
   "id": "3de4aa5b-c901-4d7e-a69e-3ef4a8cbe7ca",
   "metadata": {
    "tags": []
   },
   "outputs": [],
   "source": [
    "df.dept.value_counts()"
   ]
  },
  {
   "cell_type": "code",
   "execution_count": null,
   "id": "0a907018-eb54-40c6-8432-522554f769c7",
   "metadata": {
    "tags": []
   },
   "outputs": [],
   "source": [
    "df.sort_values(by='sal', ascending=False).groupby('dept').nth(-1).sort_values(by='dept')  # 0(first), -1 (last)\n",
    "#group wise top person by Salary"
   ]
  },
  {
   "cell_type": "code",
   "execution_count": null,
   "id": "a04012c5-4e3f-4681-8612-e3865962d3f2",
   "metadata": {
    "tags": []
   },
   "outputs": [],
   "source": [
    "df.sort_values(by='sal', ascending=False).groupby('dept').first()  #.reset_index(drop=True)"
   ]
  },
  {
   "cell_type": "code",
   "execution_count": null,
   "id": "40831e23-aa3e-458d-8dba-640a2742ab24",
   "metadata": {
    "tags": []
   },
   "outputs": [],
   "source": [
    "df.sort_values(by='sal', ascending=False).groupby('dept').last()"
   ]
  },
  {
   "cell_type": "code",
   "execution_count": null,
   "id": "24010aa5-0bdb-4914-953e-821b010628bf",
   "metadata": {
    "tags": []
   },
   "outputs": [],
   "source": [
    "df.sort_values(by='sal', ascending=False).groupby('dept').head(1).sort_values(by='dept')"
   ]
  },
  {
   "cell_type": "code",
   "execution_count": null,
   "id": "825257b0-3c0a-4389-9cb4-13f3da822b29",
   "metadata": {
    "tags": []
   },
   "outputs": [],
   "source": [
    "df.sort_values(by='sal', ascending=False).groupby('dept').agg({'sal':['first','last','mean', 'min', 'max'],'expr':['count']})"
   ]
  },
  {
   "cell_type": "markdown",
   "id": "2aa81a63-c42d-4fc0-abe0-00895dbf8411",
   "metadata": {
    "tags": []
   },
   "source": [
    "### Plot\n",
    "-  bar\n",
    "-  line\n",
    "-  scatter"
   ]
  },
  {
   "cell_type": "code",
   "execution_count": null,
   "id": "c5ab7ea4-4082-41db-871d-027da927dd26",
   "metadata": {
    "tags": []
   },
   "outputs": [],
   "source": [
    "deptCount = df.groupby('dept').size()\n",
    "print(deptCount)\n",
    "deptCount.plot(kind='bar')"
   ]
  },
  {
   "cell_type": "code",
   "execution_count": null,
   "id": "1ff6e85c-7dee-49f6-a9eb-58fe08e99e4d",
   "metadata": {
    "tags": []
   },
   "outputs": [],
   "source": [
    "df.DOJ.dt.month.head()"
   ]
  },
  {
   "cell_type": "code",
   "execution_count": null,
   "id": "161316e0-dca4-4b7d-b9bd-3cb287267272",
   "metadata": {
    "tags": []
   },
   "outputs": [],
   "source": [
    "df.DOJ.dt.month_name()"
   ]
  },
  {
   "cell_type": "code",
   "execution_count": null,
   "id": "0c3e40dd-8b9d-4d4c-9b90-fc6fd1181487",
   "metadata": {
    "tags": []
   },
   "outputs": [],
   "source": [
    "monthDOJ = df.groupby(df.DOJ.dt.month_name()).size()\n",
    "print(monthDOJ)\n",
    "monthDOJ.plot(kind='bar')"
   ]
  },
  {
   "cell_type": "markdown",
   "id": "c230d9c0-fa6a-46f6-be0b-0711bc662ffe",
   "metadata": {},
   "source": [
    "#  change 2 dates together\n"
   ]
  }
 ],
 "metadata": {
  "kernelspec": {
   "display_name": "Python 3 (ipykernel)",
   "language": "python",
   "name": "python3"
  },
  "language_info": {
   "codemirror_mode": {
    "name": "ipython",
    "version": 3
   },
   "file_extension": ".py",
   "mimetype": "text/x-python",
   "name": "python",
   "nbconvert_exporter": "python",
   "pygments_lexer": "ipython3",
   "version": "3.11.5"
  }
 },
 "nbformat": 4,
 "nbformat_minor": 5
}
