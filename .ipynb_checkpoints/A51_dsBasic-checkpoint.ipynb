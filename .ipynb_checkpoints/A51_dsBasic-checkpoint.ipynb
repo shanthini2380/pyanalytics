{
 "cells": [
  {
   "cell_type": "markdown",
   "id": "689e1c28-9feb-47d5-a8b9-0418be80bf7a",
   "metadata": {},
   "source": [
    "# Data Structures in Python\n",
    "-  Building Blocks to Python Programming\n",
    "-  Primitives Types\n",
    "    -  Integer - 1,2,3, 100 (no decimal)\n",
    "    -  Float  - 3,5.44, 79.9494  (with decimal)\n",
    "    -  Text/ Category - Black, Male\n",
    "    -  Ordered Category - Good, Poor\n",
    "    -  Logical - True, False\n",
    "-  Types\n",
    "    -  List\n",
    "    -  Tuple\n",
    "    -  Sets\n",
    "    -  Dictionary\n",
    "    -  Strings\n",
    "-  Features\n",
    "    -  Mutatable (Values can be changed)\n",
    "    -  Ordered (DS retains ordering as provided); Unordered (does not have specific order)\n",
    "    -  Duplicates (allows duplicate)\n",
    "    -  Creation structure\n",
    "    -  Functions / Methods which can be used\n",
    "    -  ....\n",
    "-  Advance DS\n",
    "    -  Numpy\n",
    "    -  Pandas\n",
    "-  Many Others"
   ]
  },
  {
   "cell_type": "markdown",
   "id": "0ff3674f-5451-42a9-9340-f3a4b726d51a",
   "metadata": {},
   "source": [
    "## Lists\n",
    "-  Ordered, Mutable, Collection of items, mixed data types\n",
    "-  [ , , ] : square bracket"
   ]
  },
  {
   "cell_type": "code",
   "execution_count": null,
   "id": "99df5d20-60b7-4b1d-ae35-cbce3facf97d",
   "metadata": {
    "tags": []
   },
   "outputs": [],
   "source": [
    "list1 = [1,2,3,10, 55.55, 'Dhiraj', False]   #shift + Rurn"
   ]
  },
  {
   "cell_type": "code",
   "execution_count": null,
   "id": "0ff36675",
   "metadata": {},
   "outputs": [],
   "source": []
  },
  {
   "cell_type": "code",
   "execution_count": null,
   "id": "a8f7e9aa-fe7a-43bc-bbf4-382f69c6ae91",
   "metadata": {
    "tags": []
   },
   "outputs": [],
   "source": [
    "list1"
   ]
  },
  {
   "cell_type": "code",
   "execution_count": null,
   "id": "e81c32cb-dbf8-4049-9219-cc2bf1c88295",
   "metadata": {
    "tags": []
   },
   "outputs": [],
   "source": [
    "type(list1)"
   ]
  },
  {
   "cell_type": "code",
   "execution_count": null,
   "id": "ebd43588-0ac8-46cc-949a-c91df782e644",
   "metadata": {
    "tags": []
   },
   "outputs": [],
   "source": [
    "#dir(module) to see all available methods/attributes\n",
    "', '.join(dir(list1))"
   ]
  },
  {
   "cell_type": "markdown",
   "id": "7be4feb6-8937-4cc4-837d-b88a62b7925f",
   "metadata": {
    "tags": []
   },
   "source": [
    "-  from inspect import getmembers, isfunction\n",
    "-  getmembers(module)\n",
    "-  https://stackoverflow.com/questions/139180/how-to-list-all-functions-in-a-module\n",
    "-  help(list1)"
   ]
  },
  {
   "cell_type": "code",
   "execution_count": null,
   "id": "c6ba393d-904b-44d2-80b7-9f08ed4c26d5",
   "metadata": {
    "tags": []
   },
   "outputs": [],
   "source": [
    "list1[5]"
   ]
  },
  {
   "cell_type": "code",
   "execution_count": null,
   "id": "98d61582-5305-46b7-b9ce-04ed46c4a1b8",
   "metadata": {
    "tags": []
   },
   "outputs": [],
   "source": [
    "list1[5] = 'Sanjay'\n",
    "list1  # values change, mutable"
   ]
  },
  {
   "cell_type": "markdown",
   "id": "41c9f85a-76fd-4f15-bc73-e27671b440bc",
   "metadata": {},
   "source": [
    "## Tuple\n",
    "-  Ordered, Immutable, Collection of items, mixed data types \n",
    "-  List list, but values cannot be changed\n",
    "-  However, new tuple can be created\n",
    "-  (, , ) : round bracket"
   ]
  },
  {
   "cell_type": "code",
   "execution_count": null,
   "id": "4947f76c-ee39-4214-9b9c-e80eab12e024",
   "metadata": {
    "tags": []
   },
   "outputs": [],
   "source": [
    "tuple1 = (1,2,3,10, 55.55, 'Dhiraj', False)"
   ]
  },
  {
   "cell_type": "code",
   "execution_count": null,
   "id": "94a4a280-cbac-4767-9f10-77d031c53756",
   "metadata": {
    "tags": []
   },
   "outputs": [],
   "source": [
    "tuple1"
   ]
  },
  {
   "cell_type": "code",
   "execution_count": null,
   "id": "13d91258-bece-4671-a60c-35215138c1e6",
   "metadata": {
    "tags": []
   },
   "outputs": [],
   "source": [
    "tuple1[5]"
   ]
  },
  {
   "cell_type": "code",
   "execution_count": null,
   "id": "4ed6919e-8455-4a34-a71e-739c04ce0193",
   "metadata": {
    "tags": []
   },
   "outputs": [],
   "source": [
    "tuple1[5] = 'Sanjay'\n",
    "tuple1  # values cannot be changed, immutable  \n",
    "#error"
   ]
  },
  {
   "cell_type": "code",
   "execution_count": null,
   "id": "169f8439-867a-46a3-ad46-7b3988a6a3ac",
   "metadata": {
    "tags": []
   },
   "outputs": [],
   "source": [
    "# print them using loop\n",
    "for i in tuple1 : print(i, end ='\\t')"
   ]
  },
  {
   "cell_type": "markdown",
   "id": "9597d1ff-1eac-4b7b-96e9-b9220b46e041",
   "metadata": {},
   "source": [
    "## Dictionary\n",
    "-  Mutable, Collection of items, mixed data types\n",
    "-  Duplicate keys not allowed\n",
    "-  { key : value}  : create by curly bracket with key - value pairs"
   ]
  },
  {
   "cell_type": "code",
   "execution_count": null,
   "id": "94864f76-d1e1-4d80-b764-510b4c287348",
   "metadata": {
    "tags": []
   },
   "outputs": [],
   "source": [
    "dict1 = {'Mandakini':'F','Akshay': 'M','Dhiraj': 'gender-male', 'Dhiraj':'M' }"
   ]
  },
  {
   "cell_type": "code",
   "execution_count": null,
   "id": "b8c62552-2a91-436a-b8ec-1ee556c85e90",
   "metadata": {
    "tags": []
   },
   "outputs": [],
   "source": [
    "dict1"
   ]
  },
  {
   "cell_type": "code",
   "execution_count": null,
   "id": "c6c4589d-83a5-4a0f-a5fc-1d684c430cff",
   "metadata": {
    "tags": []
   },
   "outputs": [],
   "source": [
    "type(dict1)"
   ]
  },
  {
   "cell_type": "code",
   "execution_count": null,
   "id": "ac31b833-8ba6-4a78-bc44-5208bdbe26e1",
   "metadata": {
    "tags": []
   },
   "outputs": [],
   "source": [
    "', '.join(dir(dict1))"
   ]
  },
  {
   "cell_type": "code",
   "execution_count": null,
   "id": "67257c97-88b7-4148-9823-22f1c701067b",
   "metadata": {
    "tags": []
   },
   "outputs": [],
   "source": [
    "dict1['Dhiraj']"
   ]
  },
  {
   "cell_type": "code",
   "execution_count": null,
   "id": "916ef4b6-7708-416a-96a4-a99668327a13",
   "metadata": {
    "tags": []
   },
   "outputs": [],
   "source": [
    "#dict1[0]  #this does not work"
   ]
  },
  {
   "cell_type": "code",
   "execution_count": null,
   "id": "ed68dd25-b3e6-4ba6-a985-c9586ead82f6",
   "metadata": {
    "tags": []
   },
   "outputs": [],
   "source": [
    "dict1['Dhiraj'] ='Male'   #values can be changed\n",
    "dict1"
   ]
  },
  {
   "cell_type": "markdown",
   "id": "e2231476-cac0-48af-b693-0da6cdfaa426",
   "metadata": {},
   "source": [
    "## Set\n",
    "-  Collection of unique items, Unordered; Mutable\n",
    "-  { , }\n",
    "-  https://www.w3schools.com/python/ref_set_union.asp"
   ]
  },
  {
   "cell_type": "code",
   "execution_count": null,
   "id": "e87fba1c-585a-49ce-ae80-0884ca169448",
   "metadata": {
    "tags": []
   },
   "outputs": [],
   "source": [
    "groupA = {'Sri Lanka', 'India','Afghanistan', 'Australia'}\n",
    "groupB = {'Pakistan', 'Australia','England', 'INDIA'}"
   ]
  },
  {
   "cell_type": "code",
   "execution_count": null,
   "id": "516af4cd-9b09-43bf-9c2e-822631b28650",
   "metadata": {
    "tags": []
   },
   "outputs": [],
   "source": [
    "print(groupA, groupB, sep= '\\t\\t')"
   ]
  },
  {
   "cell_type": "code",
   "execution_count": null,
   "id": "1f7fe884-4d9d-4f1d-8a45-c42f989b9fe8",
   "metadata": {
    "tags": []
   },
   "outputs": [],
   "source": [
    "groupA.union(groupB)\n",
    "#India & INDIA; Australia"
   ]
  },
  {
   "cell_type": "code",
   "execution_count": null,
   "id": "6034e143-f1fa-4686-bd16-daddf756a860",
   "metadata": {
    "tags": []
   },
   "outputs": [],
   "source": [
    "groupA | groupB  #union"
   ]
  },
  {
   "cell_type": "code",
   "execution_count": null,
   "id": "05bc5b94-1a97-4928-bce5-759f193629e0",
   "metadata": {
    "tags": []
   },
   "outputs": [],
   "source": [
    "groupA & groupB # intersection"
   ]
  },
  {
   "cell_type": "code",
   "execution_count": null,
   "id": "8fd9d076-ee71-436c-8112-9e1057a3d187",
   "metadata": {
    "tags": []
   },
   "outputs": [],
   "source": [
    "groupA.intersection(groupB)"
   ]
  },
  {
   "cell_type": "code",
   "execution_count": null,
   "id": "375a87ee-215e-4c0c-8232-0cda4ba02815",
   "metadata": {
    "tags": []
   },
   "outputs": [],
   "source": [
    "groupA - groupB"
   ]
  },
  {
   "cell_type": "code",
   "execution_count": null,
   "id": "afc14cc6-8922-487b-bc42-761d60c74e8a",
   "metadata": {
    "tags": []
   },
   "outputs": [],
   "source": [
    "groupB - groupA"
   ]
  },
  {
   "cell_type": "code",
   "execution_count": null,
   "id": "03b553f8-ba6c-4934-9c47-691c8c58ee02",
   "metadata": {
    "tags": []
   },
   "outputs": [],
   "source": [
    "', '.join(dir(groupA))"
   ]
  },
  {
   "cell_type": "markdown",
   "id": "f8212ed8-d54b-4e5e-b914-6a65795aa8a1",
   "metadata": {},
   "source": [
    "## Strings\n",
    "-  text with 'single quote' or \"doublequote\" immutable (elements cannot be changed) However full string can be reassigned"
   ]
  },
  {
   "cell_type": "code",
   "execution_count": null,
   "id": "879e6db9-6ecc-45f5-8428-3d0e8c0721f0",
   "metadata": {
    "tags": []
   },
   "outputs": [],
   "source": [
    "str1 = 'Python Programming'\n",
    "print( 'Type of String \"', str1, '\" is ', type(str1))"
   ]
  },
  {
   "cell_type": "code",
   "execution_count": null,
   "id": "1ab5e07d-c937-47f0-b59a-8b7a84d677f6",
   "metadata": {
    "tags": []
   },
   "outputs": [],
   "source": [
    "#functions in string\n",
    "print(dir(str), sep='\\t')"
   ]
  },
  {
   "cell_type": "code",
   "execution_count": null,
   "id": "23e35375-cb69-4227-8ed9-30850ce88b14",
   "metadata": {
    "tags": []
   },
   "outputs": [],
   "source": [
    "str2 = \"Dhiraj Upadhyaya\"\n",
    "str2.lower()"
   ]
  },
  {
   "cell_type": "code",
   "execution_count": null,
   "id": "b3e6bb76-1446-43c1-b2e2-2153fb7b2aaa",
   "metadata": {
    "tags": []
   },
   "outputs": [],
   "source": [
    "print(str2)\n",
    "str2[1] = 'Z' #immutable individual elements cannot be changed , but new string can be assigned"
   ]
  },
  {
   "cell_type": "code",
   "execution_count": null,
   "id": "a60abf1e-0dff-4e8c-beb0-58e3c943601f",
   "metadata": {
    "tags": []
   },
   "outputs": [],
   "source": [
    "str2 = 'Kounal'\n",
    "str2  #new assignment possible"
   ]
  },
  {
   "cell_type": "code",
   "execution_count": null,
   "id": "0f3892a5-2c05-43ac-a842-4b01e98a6c81",
   "metadata": {},
   "outputs": [],
   "source": []
  }
 ],
 "metadata": {
  "kernelspec": {
   "display_name": "Python 3 (ipykernel)",
   "language": "python",
   "name": "python3"
  },
  "language_info": {
   "codemirror_mode": {
    "name": "ipython",
    "version": 3
   },
   "file_extension": ".py",
   "mimetype": "text/x-python",
   "name": "python",
   "nbconvert_exporter": "python",
   "pygments_lexer": "ipython3",
   "version": "3.11.5"
  }
 },
 "nbformat": 4,
 "nbformat_minor": 5
}
