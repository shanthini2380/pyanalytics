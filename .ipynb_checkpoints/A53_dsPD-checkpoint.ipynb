{
 "cells": [
  {
   "cell_type": "markdown",
   "id": "2467a2b6-e142-438b-b996-5a74f890b57f",
   "metadata": {},
   "source": [
    "# Data Structure - 3\n",
    "-  pandas"
   ]
  },
  {
   "cell_type": "markdown",
   "id": "1eb8e635-2d38-4cc5-bed1-845b82d52434",
   "metadata": {
    "tags": []
   },
   "source": [
    "## Pandas\n",
    "-  http://cs231n.github.io/python-numpy-tutorial/\n",
    "-  pandas - dataframe, excel like \n",
    "-  https://mode.com/python-tutorial/pandas-dataframe/ \n",
    "-  https://pandas.pydata.org/pandas-docs/stable/\n",
    "-  "
   ]
  },
  {
   "cell_type": "code",
   "execution_count": null,
   "id": "259b7266-c928-46af-b0c4-4eaccd8be115",
   "metadata": {
    "tags": []
   },
   "outputs": [],
   "source": [
    "import pandas as pd\n",
    "import numpy as np\n",
    "import os\n",
    "#https://pandas.pydata.org/\n",
    "print(pd.__version__)"
   ]
  },
  {
   "cell_type": "code",
   "execution_count": null,
   "id": "5deb6b21-9e47-4447-b42e-e559faf4f83c",
   "metadata": {
    "tags": []
   },
   "outputs": [],
   "source": [
    "#from list\n",
    "my_list = [1,2,3,4,5,10]\n",
    "df = pd.DataFrame(my_list , columns = ['columnName'])\n",
    "df"
   ]
  },
  {
   "cell_type": "code",
   "execution_count": null,
   "id": "83461c4c-8ad8-42f4-a433-5e0ec23cca6b",
   "metadata": {
    "tags": []
   },
   "outputs": [],
   "source": [
    "# from dictionary\n",
    "my_dict = { 'A':[1,2,3,5, 9], 'B': [10, 20, 5, 39, 7]}\n",
    "df = pd.DataFrame(my_dict)\n",
    "df"
   ]
  },
  {
   "cell_type": "code",
   "execution_count": null,
   "id": "41350484-88f3-408e-9fbe-2909fa8e5a33",
   "metadata": {
    "tags": []
   },
   "outputs": [],
   "source": [
    "df.loc[0]  #row label"
   ]
  },
  {
   "cell_type": "code",
   "execution_count": null,
   "id": "e3bc5c1f-cf02-4dc0-8f2c-405cb576361b",
   "metadata": {
    "tags": []
   },
   "outputs": [],
   "source": [
    "df.iloc[0] # row index"
   ]
  },
  {
   "cell_type": "code",
   "execution_count": null,
   "id": "043adc7e-d3a1-47fb-843d-373efb7c2f73",
   "metadata": {
    "tags": []
   },
   "outputs": [],
   "source": [
    "df.iat[0,0]  #single value interesction of row and col; col & row by index"
   ]
  },
  {
   "cell_type": "code",
   "execution_count": null,
   "id": "8f302839-73bb-41ec-b7d0-e78678012976",
   "metadata": {
    "tags": []
   },
   "outputs": [],
   "source": [
    "df.at[0,'A']  #column by name"
   ]
  },
  {
   "cell_type": "code",
   "execution_count": null,
   "id": "a4189475-bb13-482b-9d67-5af17676229f",
   "metadata": {
    "tags": []
   },
   "outputs": [],
   "source": [
    "df.rename(columns = {'A':'newA'})"
   ]
  },
  {
   "cell_type": "code",
   "execution_count": null,
   "id": "e77f472f-7818-4440-9230-43fa39375281",
   "metadata": {
    "tags": []
   },
   "outputs": [],
   "source": [
    "df['A'].apply(lambda x : x*2)"
   ]
  },
  {
   "cell_type": "code",
   "execution_count": null,
   "id": "6cee048e-71c7-46cb-9cfc-dda7d54f8ec7",
   "metadata": {
    "tags": []
   },
   "outputs": [],
   "source": [
    "df.replace(1, 10)"
   ]
  },
  {
   "cell_type": "code",
   "execution_count": null,
   "id": "c6b91bba-3848-40b2-a840-6978926c8250",
   "metadata": {
    "tags": []
   },
   "outputs": [],
   "source": [
    "df.agg({'A':['min', 'max', 'mean', 'sum']})"
   ]
  },
  {
   "cell_type": "code",
   "execution_count": null,
   "id": "a23abfa0-4631-478c-bfb7-37c53d401fe5",
   "metadata": {
    "tags": []
   },
   "outputs": [],
   "source": [
    "df1 = pd.DataFrame({'rollno':[1,2,3], 'marks1':[4,5,6]})\n",
    "df2 = pd.DataFrame({'rollno':[1,2,3], 'marks2':[7,8,9]})\n",
    "print(df1)\n",
    "df = pd.merge(df1, df2, on='rollno') #\n",
    "#merge is more versatile, it requires specifying the columns as a merge key. \n",
    "print(df)"
   ]
  },
  {
   "cell_type": "code",
   "execution_count": null,
   "id": "1613c502-0dff-48dd-a63a-91fa05560ece",
   "metadata": {
    "tags": []
   },
   "outputs": [],
   "source": [
    "df1 = pd.DataFrame({'A':[1,2,3], 'B':[4,5,6]})\n",
    "df2 = pd.DataFrame({'C':[7,8,9]})\n",
    "print (df1,'\\n', df2)\n",
    "df = df1.join(df2)  #using index key\n",
    "df"
   ]
  },
  {
   "cell_type": "code",
   "execution_count": null,
   "id": "173b1059-1533-4d89-ad74-005b87e0dd3e",
   "metadata": {
    "tags": []
   },
   "outputs": [],
   "source": [
    "df['date'] = pd.to_datetime('2023-10-02')\n",
    "df"
   ]
  },
  {
   "cell_type": "code",
   "execution_count": null,
   "id": "2a94f334-715e-450d-8e79-552c5431eda8",
   "metadata": {
    "tags": []
   },
   "outputs": [],
   "source": [
    "import datetime as dt"
   ]
  },
  {
   "cell_type": "code",
   "execution_count": null,
   "id": "da9c6ef9-3f54-4ff0-8c91-6e53186ccd07",
   "metadata": {
    "tags": []
   },
   "outputs": [],
   "source": [
    "print(df['date'].dt.year)\n",
    "print(df['date'].dt.month)\n",
    "print(df['date'].dt.day)"
   ]
  },
  {
   "cell_type": "code",
   "execution_count": null,
   "id": "49eed296-28b0-414a-bc21-2ef2a76553d1",
   "metadata": {
    "tags": []
   },
   "outputs": [],
   "source": [
    "df.to_csv('filedf.csv', index=False)"
   ]
  },
  {
   "cell_type": "code",
   "execution_count": null,
   "id": "639422e6-5098-452c-ad86-7fa0af0a321f",
   "metadata": {
    "tags": []
   },
   "outputs": [],
   "source": [
    "os.listdir()"
   ]
  },
  {
   "cell_type": "code",
   "execution_count": null,
   "id": "a5e8cda5-3c22-4b98-b821-bca67a938790",
   "metadata": {},
   "outputs": [],
   "source": [
    "## larger DF"
   ]
  },
  {
   "cell_type": "code",
   "execution_count": null,
   "id": "92041c2c-701a-4ad9-a2f1-4e17f9f772c7",
   "metadata": {
    "tags": []
   },
   "outputs": [],
   "source": [
    "df1 = pd.DataFrame({'rollno':[1,2,3,4,5], \n",
    "                    'name': [ \"Dhiraj\", \"Kounal\", \"Akhil\", \"Pooja\",\"Disha\" ], \n",
    "                    'marks':[ 40, 50, 60.5, 70, 93 ], \n",
    "                    'gender':['M', 'M','M', 'F', 'F']})\n",
    "print(df1)  # dict format\n",
    "type(df1) "
   ]
  },
  {
   "cell_type": "code",
   "execution_count": null,
   "id": "c4ba36ae-d2bb-48c8-90d9-b7998bef2f33",
   "metadata": {
    "tags": []
   },
   "outputs": [],
   "source": [
    "print('Column Names - ', df1.columns)  #column names\n",
    "print('Index/ Row Names - ', df1.index)  #row ids/ names  - here auto created\n",
    "print('Data Types -\\n', df1.dtypes) #data types\n",
    "print('Shape of DF(R-C) -', df1.shape)  # rows and columns"
   ]
  },
  {
   "cell_type": "code",
   "execution_count": null,
   "id": "8fa036bd-6bc6-46b5-9764-d63c48bd97f9",
   "metadata": {
    "tags": []
   },
   "outputs": [],
   "source": [
    "print('Describe Values (Numerical)-\\t  ')\n",
    "df1.describe() #description of numerical values"
   ]
  },
  {
   "cell_type": "code",
   "execution_count": null,
   "id": "577fb5c0-5a57-496c-8c84-277c4f1b00a4",
   "metadata": {
    "tags": []
   },
   "outputs": [],
   "source": [
    "# Groupby Functions on DF\n",
    "df1.groupby('gender').size()  # how many M, F"
   ]
  },
  {
   "cell_type": "markdown",
   "id": "7ab5a8b8-6b72-415d-be08-f45e54d6e923",
   "metadata": {},
   "source": [
    "## using Built In Data Sets\n",
    "-  install pydatasets : !pip install pydataset"
   ]
  },
  {
   "cell_type": "code",
   "execution_count": null,
   "id": "88d177ac-8df7-4de5-b2a3-cf548f6c4211",
   "metadata": {
    "tags": []
   },
   "outputs": [],
   "source": [
    "from pydataset import data\n",
    "mtcars = data('mtcars')\n",
    "mtcars.shape"
   ]
  },
  {
   "cell_type": "code",
   "execution_count": null,
   "id": "89572484-52e8-4c8b-989c-2f836f50808e",
   "metadata": {
    "tags": []
   },
   "outputs": [],
   "source": [
    "mtcars.head()"
   ]
  },
  {
   "cell_type": "code",
   "execution_count": null,
   "id": "41be6d84-72a3-47d6-80ea-3d0ac14a33c2",
   "metadata": {
    "tags": []
   },
   "outputs": [],
   "source": [
    "mtcars.describe(include='all')"
   ]
  },
  {
   "cell_type": "code",
   "execution_count": null,
   "id": "0721fd4b-d552-4c0c-bf3e-39e9aff1fb8d",
   "metadata": {
    "tags": []
   },
   "outputs": [],
   "source": [
    "mtcars.columns"
   ]
  },
  {
   "cell_type": "code",
   "execution_count": null,
   "id": "b2405ddd-d21a-418d-a028-dd00fa37a94c",
   "metadata": {
    "tags": []
   },
   "outputs": [],
   "source": [
    "# settings of pandas\n",
    "# https://pandas.pydata.org/docs/user_guide/options.html\n",
    "pd.set_option('display.max_columns', None)\n",
    "pd.set_option('max_colwidth', None)\n",
    "pd.set_option(\"expand_frame_repr\", True)\n",
    "pd.set_option(\"max_info_columns\", 11)\n",
    "pd.set_option(\"display.precision\", 3)\n",
    "pd.set_option('display.width', 1000)  #wrap with full display"
   ]
  },
  {
   "cell_type": "code",
   "execution_count": null,
   "id": "ffb9b2a7-f1e4-4263-96f3-6cd5c7ce88e6",
   "metadata": {
    "tags": []
   },
   "outputs": [],
   "source": [
    "np.set_printoptions(edgeitems=30, linewidth=100000,   formatter=dict(float=lambda x: \"%.3g\" % x))"
   ]
  },
  {
   "cell_type": "code",
   "execution_count": null,
   "id": "5ba09b70-a2dd-4f83-a95a-7ef5d4a7c5ce",
   "metadata": {
    "tags": []
   },
   "outputs": [],
   "source": [
    "mtcars.columns"
   ]
  },
  {
   "cell_type": "code",
   "execution_count": null,
   "id": "4c2f2527-7ffb-41b8-a062-7b38b49933ff",
   "metadata": {
    "tags": []
   },
   "outputs": [],
   "source": [
    "mtcars.mean()"
   ]
  },
  {
   "cell_type": "markdown",
   "id": "ebe51672-7200-43d0-8a9d-d7c9c65a295e",
   "metadata": {},
   "source": [
    "## Export Data to CSV/ Excel\n",
    "-  write to csv \n",
    "    -  https://pandas.pydata.org/docs/reference/api/pandas.DataFrame.to_csv.html\n",
    "-  write to excel\n",
    "-   -  https://pandas.pydata.org/docs/reference/api/pandas.DataFrame.to_excel.html\n",
    "-  write to other formats"
   ]
  },
  {
   "cell_type": "code",
   "execution_count": null,
   "id": "53d244d4-68b9-412c-86b7-5f0a8e91b07e",
   "metadata": {
    "tags": []
   },
   "outputs": [],
   "source": [
    "mtcars.to_csv( 'mtcars.csv')\n",
    "', '.join(os.listdir())"
   ]
  },
  {
   "cell_type": "code",
   "execution_count": null,
   "id": "bd236faf-ccab-44e6-8a72-7c01474884f5",
   "metadata": {
    "tags": []
   },
   "outputs": [],
   "source": [
    "import glob  #search file with pattern\n",
    "glob.glob(\"*.csv\")"
   ]
  },
  {
   "cell_type": "code",
   "execution_count": null,
   "id": "edabc44e-277d-4046-aab1-7ac3a744d823",
   "metadata": {
    "tags": []
   },
   "outputs": [],
   "source": [
    "mtcars.to_excel('mtcars.xlsx')"
   ]
  },
  {
   "cell_type": "code",
   "execution_count": null,
   "id": "4cbae60f-8325-415d-a91b-52d6f1ec7889",
   "metadata": {
    "tags": []
   },
   "outputs": [],
   "source": [
    "glob.glob(\"*.xlsx\")"
   ]
  },
  {
   "cell_type": "markdown",
   "id": "4a83d43d-3a66-4e99-81d9-01b4363f2150",
   "metadata": {},
   "source": [
    "## Import Data to CSV/ Excel/ Web CSV\n",
    "-  from csv\n",
    "-  from excel\n",
    "    -  https://pandas.pydata.org/docs/reference/api/pandas.read_excel.html"
   ]
  },
  {
   "cell_type": "code",
   "execution_count": null,
   "id": "8d3cbf4f-714f-4a44-a6f2-4b25a2dfc770",
   "metadata": {
    "tags": []
   },
   "outputs": [],
   "source": [
    "df1 = pd.read_csv('mtcars.csv')\n",
    "df1.head()"
   ]
  },
  {
   "cell_type": "code",
   "execution_count": null,
   "id": "407893dc-3f5d-4337-a570-5623dcb6eeff",
   "metadata": {
    "tags": []
   },
   "outputs": [],
   "source": [
    "df1B = df1.drop(\"Unnamed: 0\", axis=1)\n",
    "df1B.head()"
   ]
  },
  {
   "cell_type": "markdown",
   "id": "fbe5717e-616d-4026-9766-66b9d627ee61",
   "metadata": {
    "tags": []
   },
   "source": [
    "### remove unnamed column or at the time of saving to csv, don't save index column\n",
    "-  mtcars.to_csv('mtcars.csv', index=False)\n",
    "-  mtcars.to_excel('mtcars.xlsx', index=False)"
   ]
  },
  {
   "cell_type": "code",
   "execution_count": null,
   "id": "045cf7d9-d250-495e-9100-5471e238bbe5",
   "metadata": {
    "tags": []
   },
   "outputs": [],
   "source": [
    "df2 = pd.read_excel('mtcars.xlsx', sheet_name=0)\n",
    "df2.head()"
   ]
  },
  {
   "cell_type": "code",
   "execution_count": null,
   "id": "4a760dd8-71df-4a9e-9e7d-1f8bb48b3031",
   "metadata": {
    "tags": []
   },
   "outputs": [],
   "source": [
    "# Not try import your own data in excel or csv into python and do summary"
   ]
  },
  {
   "cell_type": "markdown",
   "id": "4ca1b7ae-9d3e-4340-bb63-f01dc0002ed5",
   "metadata": {},
   "source": [
    "## Links\n",
    "-  https://pandas.pydata.org/docs/user_guide/index.html\n",
    "-  https://pandas.pydata.org/docs/reference/index.html"
   ]
  },
  {
   "cell_type": "markdown",
   "id": "0eefde3a-7c73-4954-bbfc-fa98bde50495",
   "metadata": {},
   "source": [
    "### Next\n",
    "-  do summary actions on dataframe structure"
   ]
  },
  {
   "cell_type": "code",
   "execution_count": null,
   "id": "2266c9e0-025f-492a-b5e6-9b03e506dcff",
   "metadata": {},
   "outputs": [],
   "source": []
  }
 ],
 "metadata": {
  "kernelspec": {
   "display_name": "Python 3 (ipykernel)",
   "language": "python",
   "name": "python3"
  },
  "language_info": {
   "codemirror_mode": {
    "name": "ipython",
    "version": 3
   },
   "file_extension": ".py",
   "mimetype": "text/x-python",
   "name": "python",
   "nbconvert_exporter": "python",
   "pygments_lexer": "ipython3",
   "version": "3.11.5"
  }
 },
 "nbformat": 4,
 "nbformat_minor": 5
}
