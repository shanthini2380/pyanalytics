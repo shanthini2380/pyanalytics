{
 "cells": [
  {
   "cell_type": "markdown",
   "id": "cd30bd5d",
   "metadata": {},
   "source": [
    "Data Structures - Basic Types(Ref:A51_dsBasic)\n",
    "-   List\n",
    "-   Tuple\n",
    "-   Sets\n",
    "-   Dictionary\n",
    "-   Strings"
   ]
  },
  {
   "cell_type": "markdown",
   "id": "8c4b1a49",
   "metadata": {},
   "source": [
    "# List \n",
    "Ordered, Mutable, Collection of items, mixed data types\n",
    "[ , , ] : square bracket"
   ]
  },
  {
   "cell_type": "code",
   "execution_count": 1,
   "id": "e040c5b8",
   "metadata": {},
   "outputs": [],
   "source": [
    "list=[1,2,3,4,5.5,'Shanthini','Tharika','GOOD','True', 'False'] #Listed integer,float,category,ordered category,logic"
   ]
  },
  {
   "cell_type": "code",
   "execution_count": 2,
   "id": "ae31d2d8",
   "metadata": {},
   "outputs": [
    {
     "data": {
      "text/plain": [
       "[1, 2, 3, 4, 5.5, 'Shanthini', 'Tharika', 'GOOD', 'True', 'False']"
      ]
     },
     "execution_count": 2,
     "metadata": {},
     "output_type": "execute_result"
    }
   ],
   "source": [
    "list"
   ]
  },
  {
   "cell_type": "code",
   "execution_count": 4,
   "id": "d04fba67",
   "metadata": {},
   "outputs": [
    {
     "data": {
      "text/plain": [
       "'Tharika'"
      ]
     },
     "execution_count": 4,
     "metadata": {},
     "output_type": "execute_result"
    }
   ],
   "source": [
    "list[6]"
   ]
  },
  {
   "cell_type": "code",
   "execution_count": 11,
   "id": "1431204f",
   "metadata": {},
   "outputs": [
    {
     "data": {
      "text/plain": [
       "[5.5, 'Shanthini', 'Tharika']"
      ]
     },
     "execution_count": 11,
     "metadata": {},
     "output_type": "execute_result"
    }
   ],
   "source": [
    "list[4:7]"
   ]
  },
  {
   "cell_type": "code",
   "execution_count": 12,
   "id": "c7769c48",
   "metadata": {},
   "outputs": [],
   "source": [
    "list[6]='S.V.Tharika' #Mutable"
   ]
  },
  {
   "cell_type": "code",
   "execution_count": 13,
   "id": "0643fbe6",
   "metadata": {},
   "outputs": [
    {
     "data": {
      "text/plain": [
       "'S.V.Tharika'"
      ]
     },
     "execution_count": 13,
     "metadata": {},
     "output_type": "execute_result"
    }
   ],
   "source": [
    "list[6]"
   ]
  },
  {
   "cell_type": "markdown",
   "id": "2393b3a7",
   "metadata": {},
   "source": [
    "# Tuple\n",
    "Ordered, Immutable, Collection of items, mixed data types\n",
    "values cannot be changed\n",
    "However, new tuple can be created\n",
    "(, , ) : round bracket"
   ]
  },
  {
   "cell_type": "code",
   "execution_count": 14,
   "id": "d4bb2180",
   "metadata": {},
   "outputs": [],
   "source": [
    "tuple=(1,2,3,4,5.5,'Shanthini','Tharika','GOOD','True', 'False')"
   ]
  },
  {
   "cell_type": "code",
   "execution_count": 15,
   "id": "45adbe8e",
   "metadata": {},
   "outputs": [
    {
     "data": {
      "text/plain": [
       "(1, 2, 3, 4, 5.5, 'Shanthini', 'Tharika', 'GOOD', 'True', 'False')"
      ]
     },
     "execution_count": 15,
     "metadata": {},
     "output_type": "execute_result"
    }
   ],
   "source": [
    "tuple"
   ]
  },
  {
   "cell_type": "code",
   "execution_count": 17,
   "id": "9ff5494a",
   "metadata": {},
   "outputs": [
    {
     "data": {
      "text/plain": [
       "'Tharika'"
      ]
     },
     "execution_count": 17,
     "metadata": {},
     "output_type": "execute_result"
    }
   ],
   "source": [
    "tuple[6]\n"
   ]
  },
  {
   "cell_type": "code",
   "execution_count": 18,
   "id": "1e96ed99",
   "metadata": {},
   "outputs": [
    {
     "data": {
      "text/plain": [
       "(5.5, 'Shanthini', 'Tharika')"
      ]
     },
     "execution_count": 18,
     "metadata": {},
     "output_type": "execute_result"
    }
   ],
   "source": [
    "tuple[4:7]"
   ]
  },
  {
   "cell_type": "code",
   "execution_count": 23,
   "id": "da19e480",
   "metadata": {},
   "outputs": [
    {
     "ename": "TypeError",
     "evalue": "'tuple' object does not support item assignment",
     "output_type": "error",
     "traceback": [
      "\u001b[1;31m---------------------------------------------------------------------------\u001b[0m",
      "\u001b[1;31mTypeError\u001b[0m                                 Traceback (most recent call last)",
      "Cell \u001b[1;32mIn[23], line 1\u001b[0m\n\u001b[1;32m----> 1\u001b[0m \u001b[38;5;28mtuple\u001b[39m[\u001b[38;5;241m6\u001b[39m]\u001b[38;5;241m=\u001b[39m\u001b[38;5;124m'\u001b[39m\u001b[38;5;124mLakshana\u001b[39m\u001b[38;5;124m'\u001b[39m\n",
      "\u001b[1;31mTypeError\u001b[0m: 'tuple' object does not support item assignment"
     ]
    }
   ],
   "source": [
    "tuple[6]='Lakshana' #Immutable"
   ]
  },
  {
   "cell_type": "markdown",
   "id": "85b04471",
   "metadata": {},
   "source": [
    "# Sets\n",
    "Collection of unique items, Unordered; Mutable\n",
    "{ , }"
   ]
  },
  {
   "cell_type": "code",
   "execution_count": 25,
   "id": "ca76406d",
   "metadata": {},
   "outputs": [],
   "source": [
    "setA={'1','2','3'}\n",
    "setB={'2','3','4'}"
   ]
  },
  {
   "cell_type": "code",
   "execution_count": 28,
   "id": "292e910b",
   "metadata": {},
   "outputs": [
    {
     "name": "stdout",
     "output_type": "stream",
     "text": [
      "{1, 2, 3} {2, 3, 4}\n"
     ]
    }
   ],
   "source": [
    "print(setA,setB)"
   ]
  },
  {
   "cell_type": "code",
   "execution_count": 29,
   "id": "0fed930d",
   "metadata": {},
   "outputs": [
    {
     "name": "stdout",
     "output_type": "stream",
     "text": [
      "<class 'set'>\n"
     ]
    }
   ],
   "source": [
    "print(type(setA))"
   ]
  },
  {
   "cell_type": "code",
   "execution_count": 30,
   "id": "3f40b4eb",
   "metadata": {},
   "outputs": [
    {
     "data": {
      "text/plain": [
       "{1, 2, 3, 4}"
      ]
     },
     "execution_count": 30,
     "metadata": {},
     "output_type": "execute_result"
    }
   ],
   "source": [
    "setA.union(setB)"
   ]
  },
  {
   "cell_type": "code",
   "execution_count": 31,
   "id": "c45ebb09",
   "metadata": {},
   "outputs": [
    {
     "data": {
      "text/plain": [
       "{1, 2, 3, 4}"
      ]
     },
     "execution_count": 31,
     "metadata": {},
     "output_type": "execute_result"
    }
   ],
   "source": [
    "setA | setB  #union"
   ]
  },
  {
   "cell_type": "code",
   "execution_count": 32,
   "id": "7739aa7a",
   "metadata": {},
   "outputs": [
    {
     "data": {
      "text/plain": [
       "{2, 3}"
      ]
     },
     "execution_count": 32,
     "metadata": {},
     "output_type": "execute_result"
    }
   ],
   "source": [
    "setA & setB # intersection"
   ]
  },
  {
   "cell_type": "code",
   "execution_count": 33,
   "id": "26006715",
   "metadata": {},
   "outputs": [
    {
     "data": {
      "text/plain": [
       "{2, 3}"
      ]
     },
     "execution_count": 33,
     "metadata": {},
     "output_type": "execute_result"
    }
   ],
   "source": [
    "setA.intersection(setB)"
   ]
  },
  {
   "cell_type": "code",
   "execution_count": 34,
   "id": "7d9e9580",
   "metadata": {},
   "outputs": [
    {
     "data": {
      "text/plain": [
       "{1}"
      ]
     },
     "execution_count": 34,
     "metadata": {},
     "output_type": "execute_result"
    }
   ],
   "source": [
    "setA - setB"
   ]
  },
  {
   "cell_type": "code",
   "execution_count": 35,
   "id": "5d45a6c0",
   "metadata": {},
   "outputs": [
    {
     "data": {
      "text/plain": [
       "{4}"
      ]
     },
     "execution_count": 35,
     "metadata": {},
     "output_type": "execute_result"
    }
   ],
   "source": [
    "setB-setA"
   ]
  },
  {
   "cell_type": "markdown",
   "id": "c88279e3",
   "metadata": {},
   "source": [
    "# String\n",
    "text with 'single quote' or \"doublequote\" immutable (elements cannot be changed) However full string can be reassigned"
   ]
  },
  {
   "cell_type": "code",
   "execution_count": 36,
   "id": "d5375f4a",
   "metadata": {},
   "outputs": [
    {
     "name": "stdout",
     "output_type": "stream",
     "text": [
      "Type of String \" My first practice in Python \" is good  <class 'str'>\n"
     ]
    }
   ],
   "source": [
    "str1 = 'My first practice in Python'\n",
    "print( 'Type of String \"', str1, '\" is good ', type(str1))"
   ]
  },
  {
   "cell_type": "code",
   "execution_count": 37,
   "id": "c6bda850",
   "metadata": {},
   "outputs": [
    {
     "name": "stdout",
     "output_type": "stream",
     "text": [
      "['__add__', '__class__', '__contains__', '__delattr__', '__dir__', '__doc__', '__eq__', '__format__', '__ge__', '__getattribute__', '__getitem__', '__getnewargs__', '__getstate__', '__gt__', '__hash__', '__init__', '__init_subclass__', '__iter__', '__le__', '__len__', '__lt__', '__mod__', '__mul__', '__ne__', '__new__', '__reduce__', '__reduce_ex__', '__repr__', '__rmod__', '__rmul__', '__setattr__', '__sizeof__', '__str__', '__subclasshook__', 'capitalize', 'casefold', 'center', 'count', 'encode', 'endswith', 'expandtabs', 'find', 'format', 'format_map', 'index', 'isalnum', 'isalpha', 'isascii', 'isdecimal', 'isdigit', 'isidentifier', 'islower', 'isnumeric', 'isprintable', 'isspace', 'istitle', 'isupper', 'join', 'ljust', 'lower', 'lstrip', 'maketrans', 'partition', 'removeprefix', 'removesuffix', 'replace', 'rfind', 'rindex', 'rjust', 'rpartition', 'rsplit', 'rstrip', 'split', 'splitlines', 'startswith', 'strip', 'swapcase', 'title', 'translate', 'upper', 'zfill']\n"
     ]
    }
   ],
   "source": [
    "#functions in string\n",
    "print(dir(str), sep='\\t')"
   ]
  },
  {
   "cell_type": "code",
   "execution_count": 38,
   "id": "094d7618",
   "metadata": {},
   "outputs": [
    {
     "data": {
      "text/plain": [
       "'python'"
      ]
     },
     "execution_count": 38,
     "metadata": {},
     "output_type": "execute_result"
    }
   ],
   "source": [
    "str1 = \"PYTHON\" #new string assigned\n",
    "str1.lower()"
   ]
  },
  {
   "cell_type": "code",
   "execution_count": 41,
   "id": "92509af7",
   "metadata": {},
   "outputs": [
    {
     "name": "stdout",
     "output_type": "stream",
     "text": [
      "PYTHON\n"
     ]
    },
    {
     "ename": "TypeError",
     "evalue": "'str' object does not support item assignment",
     "output_type": "error",
     "traceback": [
      "\u001b[1;31m---------------------------------------------------------------------------\u001b[0m",
      "\u001b[1;31mTypeError\u001b[0m                                 Traceback (most recent call last)",
      "Cell \u001b[1;32mIn[41], line 2\u001b[0m\n\u001b[0;32m      1\u001b[0m \u001b[38;5;28mprint\u001b[39m(str1)\n\u001b[1;32m----> 2\u001b[0m str1[\u001b[38;5;241m1\u001b[39m] \u001b[38;5;241m=\u001b[39m \u001b[38;5;124m'\u001b[39m\u001b[38;5;124mPROGRAMMING LANG\u001b[39m\u001b[38;5;124m'\u001b[39m\n",
      "\u001b[1;31mTypeError\u001b[0m: 'str' object does not support item assignment"
     ]
    }
   ],
   "source": [
    "print(str1)\n",
    "str1[1] = 'PROGRAMMING LANG' #immutable individual elements cannot be changed , but new string can be assignedPrint "
   ]
  },
  {
   "cell_type": "markdown",
   "id": "7ebde764",
   "metadata": {},
   "source": [
    "# Dictionary\n",
    "Mutable, Collection of items, mixed data types\n",
    "Duplicate keys not allowed\n",
    "{ key : value} : create by curly bracket with key - value pairs"
   ]
  },
  {
   "cell_type": "code",
   "execution_count": 44,
   "id": "e5796f3c",
   "metadata": {},
   "outputs": [],
   "source": [
    "dict={'Tharika':'F':15,'Lakshana':'F':12,'Sarvesh':'M':10}"
   ]
  },
  {
   "cell_type": "code",
   "execution_count": 45,
   "id": "5c31f96b",
   "metadata": {},
   "outputs": [
    {
     "data": {
      "text/plain": [
       "{'Tharika': 'F', 'Lakshana': 'F', 'Sarvesh': 'M'}"
      ]
     },
     "execution_count": 45,
     "metadata": {},
     "output_type": "execute_result"
    }
   ],
   "source": [
    "dict"
   ]
  },
  {
   "cell_type": "code",
   "execution_count": 47,
   "id": "2e873031",
   "metadata": {},
   "outputs": [],
   "source": [
    "dict={'Tharika':15}"
   ]
  },
  {
   "cell_type": "code",
   "execution_count": 48,
   "id": "adbd2a2f",
   "metadata": {},
   "outputs": [
    {
     "data": {
      "text/plain": [
       "{'Tharika': 15}"
      ]
     },
     "execution_count": 48,
     "metadata": {},
     "output_type": "execute_result"
    }
   ],
   "source": [
    "dict"
   ]
  },
  {
   "cell_type": "code",
   "execution_count": 49,
   "id": "18736aea",
   "metadata": {},
   "outputs": [
    {
     "data": {
      "text/plain": [
       "dict"
      ]
     },
     "execution_count": 49,
     "metadata": {},
     "output_type": "execute_result"
    }
   ],
   "source": [
    "type(dict)"
   ]
  },
  {
   "cell_type": "code",
   "execution_count": 51,
   "id": "bb4952c2",
   "metadata": {},
   "outputs": [
    {
     "data": {
      "text/plain": [
       "'__class__, __class_getitem__, __contains__, __delattr__, __delitem__, __dir__, __doc__, __eq__, __format__, __ge__, __getattribute__, __getitem__, __getstate__, __gt__, __hash__, __init__, __init_subclass__, __ior__, __iter__, __le__, __len__, __lt__, __ne__, __new__, __or__, __reduce__, __reduce_ex__, __repr__, __reversed__, __ror__, __setattr__, __setitem__, __sizeof__, __str__, __subclasshook__, clear, copy, fromkeys, get, items, keys, pop, popitem, setdefault, update, values'"
      ]
     },
     "execution_count": 51,
     "metadata": {},
     "output_type": "execute_result"
    }
   ],
   "source": [
    "', '.join(dir(dict))"
   ]
  },
  {
   "cell_type": "code",
   "execution_count": 52,
   "id": "12939613",
   "metadata": {},
   "outputs": [
    {
     "data": {
      "text/plain": [
       "15"
      ]
     },
     "execution_count": 52,
     "metadata": {},
     "output_type": "execute_result"
    }
   ],
   "source": [
    "dict['Tharika']"
   ]
  },
  {
   "cell_type": "code",
   "execution_count": 53,
   "id": "5e88c29a",
   "metadata": {},
   "outputs": [
    {
     "data": {
      "text/plain": [
       "{'Tharika': 'F'}"
      ]
     },
     "execution_count": 53,
     "metadata": {},
     "output_type": "execute_result"
    }
   ],
   "source": [
    "dict['Tharika'] ='F'   #values can be changed\n",
    "dict"
   ]
  },
  {
   "cell_type": "code",
   "execution_count": null,
   "id": "15f3b17b",
   "metadata": {},
   "outputs": [],
   "source": []
  }
 ],
 "metadata": {
  "kernelspec": {
   "display_name": "Python 3 (ipykernel)",
   "language": "python",
   "name": "python3"
  },
  "language_info": {
   "codemirror_mode": {
    "name": "ipython",
    "version": 3
   },
   "file_extension": ".py",
   "mimetype": "text/x-python",
   "name": "python",
   "nbconvert_exporter": "python",
   "pygments_lexer": "ipython3",
   "version": "3.11.5"
  }
 },
 "nbformat": 4,
 "nbformat_minor": 5
}
